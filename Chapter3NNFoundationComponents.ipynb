{
  "nbformat": 4,
  "nbformat_minor": 0,
  "metadata": {
    "kernelspec": {
      "display_name": "Python 3",
      "language": "python",
      "name": "python3"
    },
    "language_info": {
      "codemirror_mode": {
        "name": "ipython",
        "version": 3
      },
      "file_extension": ".py",
      "mimetype": "text/x-python",
      "name": "python",
      "nbconvert_exporter": "python",
      "pygments_lexer": "ipython3",
      "version": "3.7.7"
    },
    "colab": {
      "name": "Chapter3NNFoundationComponents.ipynb",
      "provenance": [],
      "collapsed_sections": [],
      "toc_visible": true
    },
    "accelerator": "GPU",
    "widgets": {
      "application/vnd.jupyter.widget-state+json": {
        "ff22458db8c94fcc9d86bd923f7a3fee": {
          "model_module": "@jupyter-widgets/controls",
          "model_name": "HBoxModel",
          "state": {
            "_view_name": "HBoxView",
            "_dom_classes": [],
            "_model_name": "HBoxModel",
            "_view_module": "@jupyter-widgets/controls",
            "_model_module_version": "1.5.0",
            "_view_count": null,
            "_view_module_version": "1.5.0",
            "box_style": "",
            "layout": "IPY_MODEL_d4a41d907da248cb9c81a0f74264e450",
            "_model_module": "@jupyter-widgets/controls",
            "children": [
              "IPY_MODEL_7d53f0ae66294c568a2fff18d48e8700",
              "IPY_MODEL_0bcfd5f1119440ddb36b39736d1079f5"
            ]
          }
        },
        "d4a41d907da248cb9c81a0f74264e450": {
          "model_module": "@jupyter-widgets/base",
          "model_name": "LayoutModel",
          "state": {
            "_view_name": "LayoutView",
            "grid_template_rows": null,
            "right": null,
            "justify_content": null,
            "_view_module": "@jupyter-widgets/base",
            "overflow": null,
            "_model_module_version": "1.2.0",
            "_view_count": null,
            "flex_flow": null,
            "width": null,
            "min_width": null,
            "border": null,
            "align_items": null,
            "bottom": null,
            "_model_module": "@jupyter-widgets/base",
            "top": null,
            "grid_column": null,
            "overflow_y": null,
            "overflow_x": null,
            "grid_auto_flow": null,
            "grid_area": null,
            "grid_template_columns": null,
            "flex": null,
            "_model_name": "LayoutModel",
            "justify_items": null,
            "grid_row": null,
            "max_height": null,
            "align_content": null,
            "visibility": null,
            "align_self": null,
            "height": null,
            "min_height": null,
            "padding": null,
            "grid_auto_rows": null,
            "grid_gap": null,
            "max_width": null,
            "order": null,
            "_view_module_version": "1.2.0",
            "grid_template_areas": null,
            "object_position": null,
            "object_fit": null,
            "grid_auto_columns": null,
            "margin": null,
            "display": null,
            "left": null
          }
        },
        "7d53f0ae66294c568a2fff18d48e8700": {
          "model_module": "@jupyter-widgets/controls",
          "model_name": "FloatProgressModel",
          "state": {
            "_view_name": "ProgressView",
            "style": "IPY_MODEL_431eed8628b24db49206e557115a0e0a",
            "_dom_classes": [],
            "description": "training routine: 100%",
            "_model_name": "FloatProgressModel",
            "bar_style": "",
            "max": 100,
            "_view_module": "@jupyter-widgets/controls",
            "_model_module_version": "1.5.0",
            "value": 100,
            "_view_count": null,
            "_view_module_version": "1.5.0",
            "orientation": "horizontal",
            "min": 0,
            "description_tooltip": null,
            "_model_module": "@jupyter-widgets/controls",
            "layout": "IPY_MODEL_0fcea04c9d274abfa534fa6d90c36a51"
          }
        },
        "0bcfd5f1119440ddb36b39736d1079f5": {
          "model_module": "@jupyter-widgets/controls",
          "model_name": "HTMLModel",
          "state": {
            "_view_name": "HTMLView",
            "style": "IPY_MODEL_6ab6977f08984257b7485361b10cdc91",
            "_dom_classes": [],
            "description": "",
            "_model_name": "HTMLModel",
            "placeholder": "​",
            "_view_module": "@jupyter-widgets/controls",
            "_model_module_version": "1.5.0",
            "value": " 100/100 [21:13&lt;00:00, 12.77s/it]",
            "_view_count": null,
            "_view_module_version": "1.5.0",
            "description_tooltip": null,
            "_model_module": "@jupyter-widgets/controls",
            "layout": "IPY_MODEL_56ee7aa2fe0f4824a978b63cb93bbfc1"
          }
        },
        "431eed8628b24db49206e557115a0e0a": {
          "model_module": "@jupyter-widgets/controls",
          "model_name": "ProgressStyleModel",
          "state": {
            "_view_name": "StyleView",
            "_model_name": "ProgressStyleModel",
            "description_width": "initial",
            "_view_module": "@jupyter-widgets/base",
            "_model_module_version": "1.5.0",
            "_view_count": null,
            "_view_module_version": "1.2.0",
            "bar_color": null,
            "_model_module": "@jupyter-widgets/controls"
          }
        },
        "0fcea04c9d274abfa534fa6d90c36a51": {
          "model_module": "@jupyter-widgets/base",
          "model_name": "LayoutModel",
          "state": {
            "_view_name": "LayoutView",
            "grid_template_rows": null,
            "right": null,
            "justify_content": null,
            "_view_module": "@jupyter-widgets/base",
            "overflow": null,
            "_model_module_version": "1.2.0",
            "_view_count": null,
            "flex_flow": null,
            "width": null,
            "min_width": null,
            "border": null,
            "align_items": null,
            "bottom": null,
            "_model_module": "@jupyter-widgets/base",
            "top": null,
            "grid_column": null,
            "overflow_y": null,
            "overflow_x": null,
            "grid_auto_flow": null,
            "grid_area": null,
            "grid_template_columns": null,
            "flex": null,
            "_model_name": "LayoutModel",
            "justify_items": null,
            "grid_row": null,
            "max_height": null,
            "align_content": null,
            "visibility": null,
            "align_self": null,
            "height": null,
            "min_height": null,
            "padding": null,
            "grid_auto_rows": null,
            "grid_gap": null,
            "max_width": null,
            "order": null,
            "_view_module_version": "1.2.0",
            "grid_template_areas": null,
            "object_position": null,
            "object_fit": null,
            "grid_auto_columns": null,
            "margin": null,
            "display": null,
            "left": null
          }
        },
        "6ab6977f08984257b7485361b10cdc91": {
          "model_module": "@jupyter-widgets/controls",
          "model_name": "DescriptionStyleModel",
          "state": {
            "_view_name": "StyleView",
            "_model_name": "DescriptionStyleModel",
            "description_width": "",
            "_view_module": "@jupyter-widgets/base",
            "_model_module_version": "1.5.0",
            "_view_count": null,
            "_view_module_version": "1.2.0",
            "_model_module": "@jupyter-widgets/controls"
          }
        },
        "56ee7aa2fe0f4824a978b63cb93bbfc1": {
          "model_module": "@jupyter-widgets/base",
          "model_name": "LayoutModel",
          "state": {
            "_view_name": "LayoutView",
            "grid_template_rows": null,
            "right": null,
            "justify_content": null,
            "_view_module": "@jupyter-widgets/base",
            "overflow": null,
            "_model_module_version": "1.2.0",
            "_view_count": null,
            "flex_flow": null,
            "width": null,
            "min_width": null,
            "border": null,
            "align_items": null,
            "bottom": null,
            "_model_module": "@jupyter-widgets/base",
            "top": null,
            "grid_column": null,
            "overflow_y": null,
            "overflow_x": null,
            "grid_auto_flow": null,
            "grid_area": null,
            "grid_template_columns": null,
            "flex": null,
            "_model_name": "LayoutModel",
            "justify_items": null,
            "grid_row": null,
            "max_height": null,
            "align_content": null,
            "visibility": null,
            "align_self": null,
            "height": null,
            "min_height": null,
            "padding": null,
            "grid_auto_rows": null,
            "grid_gap": null,
            "max_width": null,
            "order": null,
            "_view_module_version": "1.2.0",
            "grid_template_areas": null,
            "object_position": null,
            "object_fit": null,
            "grid_auto_columns": null,
            "margin": null,
            "display": null,
            "left": null
          }
        },
        "c818d28e8c964dcb9a89d7b2f3506c47": {
          "model_module": "@jupyter-widgets/controls",
          "model_name": "HBoxModel",
          "state": {
            "_view_name": "HBoxView",
            "_dom_classes": [],
            "_model_name": "HBoxModel",
            "_view_module": "@jupyter-widgets/controls",
            "_model_module_version": "1.5.0",
            "_view_count": null,
            "_view_module_version": "1.5.0",
            "box_style": "",
            "layout": "IPY_MODEL_c8ca9edd3bda498d99ccec16c46896ff",
            "_model_module": "@jupyter-widgets/controls",
            "children": [
              "IPY_MODEL_af082817769f44d28d933037b43c905d",
              "IPY_MODEL_cbc5e3d9a52748ef88ad78c71285c464"
            ]
          }
        },
        "c8ca9edd3bda498d99ccec16c46896ff": {
          "model_module": "@jupyter-widgets/base",
          "model_name": "LayoutModel",
          "state": {
            "_view_name": "LayoutView",
            "grid_template_rows": null,
            "right": null,
            "justify_content": null,
            "_view_module": "@jupyter-widgets/base",
            "overflow": null,
            "_model_module_version": "1.2.0",
            "_view_count": null,
            "flex_flow": null,
            "width": null,
            "min_width": null,
            "border": null,
            "align_items": null,
            "bottom": null,
            "_model_module": "@jupyter-widgets/base",
            "top": null,
            "grid_column": null,
            "overflow_y": null,
            "overflow_x": null,
            "grid_auto_flow": null,
            "grid_area": null,
            "grid_template_columns": null,
            "flex": null,
            "_model_name": "LayoutModel",
            "justify_items": null,
            "grid_row": null,
            "max_height": null,
            "align_content": null,
            "visibility": null,
            "align_self": null,
            "height": null,
            "min_height": null,
            "padding": null,
            "grid_auto_rows": null,
            "grid_gap": null,
            "max_width": null,
            "order": null,
            "_view_module_version": "1.2.0",
            "grid_template_areas": null,
            "object_position": null,
            "object_fit": null,
            "grid_auto_columns": null,
            "margin": null,
            "display": null,
            "left": null
          }
        },
        "af082817769f44d28d933037b43c905d": {
          "model_module": "@jupyter-widgets/controls",
          "model_name": "FloatProgressModel",
          "state": {
            "_view_name": "ProgressView",
            "style": "IPY_MODEL_7b8b8c417abf409e8cdb618445fcfbb9",
            "_dom_classes": [],
            "description": "split=train: ",
            "_model_name": "FloatProgressModel",
            "bar_style": "",
            "max": 65,
            "_view_module": "@jupyter-widgets/controls",
            "_model_module_version": "1.5.0",
            "value": 65,
            "_view_count": null,
            "_view_module_version": "1.5.0",
            "orientation": "horizontal",
            "min": 0,
            "description_tooltip": null,
            "_model_module": "@jupyter-widgets/controls",
            "layout": "IPY_MODEL_3449e004095b40d2828a5b87d14cb4a3"
          }
        },
        "cbc5e3d9a52748ef88ad78c71285c464": {
          "model_module": "@jupyter-widgets/controls",
          "model_name": "HTMLModel",
          "state": {
            "_view_name": "HTMLView",
            "style": "IPY_MODEL_3b7fe925ad7c4dd9b8b2526f6f8a770c",
            "_dom_classes": [],
            "description": "",
            "_model_name": "HTMLModel",
            "placeholder": "​",
            "_view_module": "@jupyter-widgets/controls",
            "_model_module_version": "1.5.0",
            "value": " 30600/? [21:25&lt;00:00, 28.56it/s, acc=99.1, epoch=99, loss=0.0392]",
            "_view_count": null,
            "_view_module_version": "1.5.0",
            "description_tooltip": null,
            "_model_module": "@jupyter-widgets/controls",
            "layout": "IPY_MODEL_a9d7b00686994f28bebd712a4c4e24ba"
          }
        },
        "7b8b8c417abf409e8cdb618445fcfbb9": {
          "model_module": "@jupyter-widgets/controls",
          "model_name": "ProgressStyleModel",
          "state": {
            "_view_name": "StyleView",
            "_model_name": "ProgressStyleModel",
            "description_width": "initial",
            "_view_module": "@jupyter-widgets/base",
            "_model_module_version": "1.5.0",
            "_view_count": null,
            "_view_module_version": "1.2.0",
            "bar_color": null,
            "_model_module": "@jupyter-widgets/controls"
          }
        },
        "3449e004095b40d2828a5b87d14cb4a3": {
          "model_module": "@jupyter-widgets/base",
          "model_name": "LayoutModel",
          "state": {
            "_view_name": "LayoutView",
            "grid_template_rows": null,
            "right": null,
            "justify_content": null,
            "_view_module": "@jupyter-widgets/base",
            "overflow": null,
            "_model_module_version": "1.2.0",
            "_view_count": null,
            "flex_flow": null,
            "width": null,
            "min_width": null,
            "border": null,
            "align_items": null,
            "bottom": null,
            "_model_module": "@jupyter-widgets/base",
            "top": null,
            "grid_column": null,
            "overflow_y": null,
            "overflow_x": null,
            "grid_auto_flow": null,
            "grid_area": null,
            "grid_template_columns": null,
            "flex": null,
            "_model_name": "LayoutModel",
            "justify_items": null,
            "grid_row": null,
            "max_height": null,
            "align_content": null,
            "visibility": null,
            "align_self": null,
            "height": null,
            "min_height": null,
            "padding": null,
            "grid_auto_rows": null,
            "grid_gap": null,
            "max_width": null,
            "order": null,
            "_view_module_version": "1.2.0",
            "grid_template_areas": null,
            "object_position": null,
            "object_fit": null,
            "grid_auto_columns": null,
            "margin": null,
            "display": null,
            "left": null
          }
        },
        "3b7fe925ad7c4dd9b8b2526f6f8a770c": {
          "model_module": "@jupyter-widgets/controls",
          "model_name": "DescriptionStyleModel",
          "state": {
            "_view_name": "StyleView",
            "_model_name": "DescriptionStyleModel",
            "description_width": "",
            "_view_module": "@jupyter-widgets/base",
            "_model_module_version": "1.5.0",
            "_view_count": null,
            "_view_module_version": "1.2.0",
            "_model_module": "@jupyter-widgets/controls"
          }
        },
        "a9d7b00686994f28bebd712a4c4e24ba": {
          "model_module": "@jupyter-widgets/base",
          "model_name": "LayoutModel",
          "state": {
            "_view_name": "LayoutView",
            "grid_template_rows": null,
            "right": null,
            "justify_content": null,
            "_view_module": "@jupyter-widgets/base",
            "overflow": null,
            "_model_module_version": "1.2.0",
            "_view_count": null,
            "flex_flow": null,
            "width": null,
            "min_width": null,
            "border": null,
            "align_items": null,
            "bottom": null,
            "_model_module": "@jupyter-widgets/base",
            "top": null,
            "grid_column": null,
            "overflow_y": null,
            "overflow_x": null,
            "grid_auto_flow": null,
            "grid_area": null,
            "grid_template_columns": null,
            "flex": null,
            "_model_name": "LayoutModel",
            "justify_items": null,
            "grid_row": null,
            "max_height": null,
            "align_content": null,
            "visibility": null,
            "align_self": null,
            "height": null,
            "min_height": null,
            "padding": null,
            "grid_auto_rows": null,
            "grid_gap": null,
            "max_width": null,
            "order": null,
            "_view_module_version": "1.2.0",
            "grid_template_areas": null,
            "object_position": null,
            "object_fit": null,
            "grid_auto_columns": null,
            "margin": null,
            "display": null,
            "left": null
          }
        }
      }
    }
  },
  "cells": [
    {
      "cell_type": "markdown",
      "metadata": {
        "id": "I2kNmcwSG14H"
      },
      "source": [
        "# Perceptron"
      ]
    },
    {
      "cell_type": "code",
      "metadata": {
        "id": "IE9Z0wO5G14Q"
      },
      "source": [
        "import torch\n",
        "import torch.nn as nn\n",
        "\n",
        "class Perceptron(nn.Module):\n",
        "    \"\"\"a perceptron is one linear layer\"\"\"\n",
        "    def __init__(self, input_dim):\n",
        "        \"\"\"input_dim : size of input features\"\"\"\n",
        "        super(Perceptron, self).__init__()\n",
        "        self.fc1 = nn.Linear(input_dim, 1)\n",
        "        \n",
        "    def forward(self, x_in):\n",
        "        \"\"\"Forward pass the perceptron\n",
        "        Args:\n",
        "            x_in (torch.Tensor): input data with shape (batch, num_features)\n",
        "        Returns:\n",
        "            resulting tensor\n",
        "        \"\"\"\n",
        "        return torch.sigmoid(self.fc1(x_in)).squeeze()"
      ],
      "execution_count": null,
      "outputs": []
    },
    {
      "cell_type": "markdown",
      "metadata": {
        "id": "SBsKdC_eG145"
      },
      "source": [
        "# Activation Functions"
      ]
    },
    {
      "cell_type": "markdown",
      "metadata": {
        "id": "y43bRelmG15P"
      },
      "source": [
        "## Sigmoid\n",
        "\n",
        "mapping x to range between 0 and 1"
      ]
    },
    {
      "cell_type": "code",
      "metadata": {
        "id": "V6SUArV8G15a",
        "outputId": "870bba59-0617-4833-af00-cce949c18ed3"
      },
      "source": [
        "import matplotlib.pyplot as plt\n",
        "\n",
        "x = torch.range(-5., 5., 0.1)\n",
        "y = torch.sigmoid(x)\n",
        "\n",
        "plt.plot(x.numpy(), y.numpy())\n",
        "plt.show()"
      ],
      "execution_count": null,
      "outputs": [
        {
          "output_type": "stream",
          "text": [
            "c:\\users\\miqda\\anaconda3\\envs\\datascience\\lib\\site-packages\\ipykernel_launcher.py:3: UserWarning: torch.range is deprecated in favor of torch.arange and will be removed in 0.5. Note that arange generates values in [start; end), not [start; end].\n",
            "  This is separate from the ipykernel package so we can avoid doing imports until\n"
          ],
          "name": "stderr"
        },
        {
          "output_type": "display_data",
          "data": {
            "image/png": "[encoded data removed]",
            "text/plain": [
              "<Figure size 432x288 with 1 Axes>"
            ]
          },
          "metadata": {
            "tags": [],
            "needs_background": "light"
          }
        }
      ]
    },
    {
      "cell_type": "markdown",
      "metadata": {
        "id": "yzpyW-PyG16P"
      },
      "source": [
        "## Tanh\n",
        "mapping x to range between -1 and 1"
      ]
    },
    {
      "cell_type": "code",
      "metadata": {
        "id": "FChZdn9vG16e",
        "outputId": "9e85f53a-522a-4bc0-95f0-64b8f179f899"
      },
      "source": [
        "x = torch.range(-5., 5., 0.1)\n",
        "y = torch.tanh(x)\n",
        "\n",
        "plt.plot(x.numpy(), y.numpy())\n",
        "plt.show()"
      ],
      "execution_count": null,
      "outputs": [
        {
          "output_type": "stream",
          "text": [
            "c:\\users\\miqda\\anaconda3\\envs\\datascience\\lib\\site-packages\\ipykernel_launcher.py:1: UserWarning: torch.range is deprecated in favor of torch.arange and will be removed in 0.5. Note that arange generates values in [start; end), not [start; end].\n",
            "  \"\"\"Entry point for launching an IPython kernel.\n"
          ],
          "name": "stderr"
        },
        {
          "output_type": "display_data",
          "data": {
            "image/png": "[encoded data removed]",
            "text/plain": [
              "<Figure size 432x288 with 1 Axes>"
            ]
          },
          "metadata": {
            "tags": [],
            "needs_background": "light"
          }
        }
      ]
    },
    {
      "cell_type": "markdown",
      "metadata": {
        "id": "dtriPR7BG166"
      },
      "source": [
        "## ReLu\n",
        "returns the maximum value of 0 and x\n",
        "\n",
        "clipping negative values to 0"
      ]
    },
    {
      "cell_type": "code",
      "metadata": {
        "id": "sFW3nriWG16_",
        "outputId": "a4eb02d2-acd0-4a01-dacd-473fbd9ad67b"
      },
      "source": [
        "relu = torch.nn.ReLU()\n",
        "x = torch.range(-5., 5., 0.1)\n",
        "y = relu(x)\n",
        "\n",
        "plt.plot(x.numpy(), y.numpy())\n",
        "plt.show()"
      ],
      "execution_count": null,
      "outputs": [
        {
          "output_type": "stream",
          "text": [
            "c:\\users\\miqda\\anaconda3\\envs\\datascience\\lib\\site-packages\\ipykernel_launcher.py:2: UserWarning: torch.range is deprecated in favor of torch.arange and will be removed in 0.5. Note that arange generates values in [start; end), not [start; end].\n",
            "  \n"
          ],
          "name": "stderr"
        },
        {
          "output_type": "display_data",
          "data": {
            "image/png": "[encoded data removed]",
            "text/plain": [
              "<Figure size 432x288 with 1 Axes>"
            ]
          },
          "metadata": {
            "tags": [],
            "needs_background": "light"
          }
        }
      ]
    },
    {
      "cell_type": "markdown",
      "metadata": {
        "id": "hEdTX2ApG17V"
      },
      "source": [
        "## PreLu\n",
        "\n",
        "\n",
        "using learned parameter as a leak coefficient so that the negative values is not 0"
      ]
    },
    {
      "cell_type": "code",
      "metadata": {
        "id": "xtki7eqzG17c",
        "outputId": "ff8cc351-cb48-4abe-a765-2aef012eda98"
      },
      "source": [
        "prelu = torch.nn.PReLU(num_parameters=1)\n",
        "x = torch.range(-5., 5., 0.1)\n",
        "y = prelu(x)\n",
        "\n",
        "plt.plot(x.detach().numpy(), y.detach().numpy())\n",
        "plt.show()"
      ],
      "execution_count": null,
      "outputs": [
        {
          "output_type": "stream",
          "text": [
            "c:\\users\\miqda\\anaconda3\\envs\\datascience\\lib\\site-packages\\ipykernel_launcher.py:2: UserWarning: torch.range is deprecated in favor of torch.arange and will be removed in 0.5. Note that arange generates values in [start; end), not [start; end].\n",
            "  \n"
          ],
          "name": "stderr"
        },
        {
          "output_type": "display_data",
          "data": {
            "image/png": "[encoded data removed]",
            "text/plain": [
              "<Figure size 432x288 with 1 Axes>"
            ]
          },
          "metadata": {
            "tags": [],
            "needs_background": "light"
          }
        }
      ]
    },
    {
      "cell_type": "markdown",
      "metadata": {
        "id": "W1KKKSY-G172"
      },
      "source": [
        "## Softmax\n",
        "\n",
        "mapping the input to values between 0 and 1.\n",
        "\n",
        "the operation involve dividing the values with the sum of all inputs"
      ]
    },
    {
      "cell_type": "code",
      "metadata": {
        "id": "LE-OtS5LG174",
        "outputId": "03223ff3-dbf4-4e64-bcfc-d9d1851cf750"
      },
      "source": [
        "softmax = nn.Softmax(dim=1)\n",
        "x_input = torch.randn(1,3)\n",
        "y = softmax(x_input)\n",
        "\n",
        "print(x_input)\n",
        "print(y)\n",
        "print(torch.sum(y, dim=1))"
      ],
      "execution_count": null,
      "outputs": [
        {
          "output_type": "stream",
          "text": [
            "tensor([[ 0.4518, -0.7268,  0.5156]])\n",
            "tensor([[0.4213, 0.1296, 0.4491]])\n",
            "tensor([1.])\n"
          ],
          "name": "stdout"
        }
      ]
    },
    {
      "cell_type": "markdown",
      "metadata": {
        "id": "_i5kF6xFG18K"
      },
      "source": [
        "# Loss Functions\n",
        "\n",
        "## Mean Squared Error loss\n",
        "\n",
        "average of squares of the difference between predicted and target values"
      ]
    },
    {
      "cell_type": "code",
      "metadata": {
        "id": "DO1ehiuCG18M",
        "outputId": "6e4e38bd-7654-4372-9606-599a82edfaff"
      },
      "source": [
        "mse = nn.MSELoss()\n",
        "outputs = torch.randn(3, 5, requires_grad=True)\n",
        "targets = torch.randn(3, 5)\n",
        "loss = mse(outputs, targets)\n",
        "print(loss)"
      ],
      "execution_count": null,
      "outputs": [
        {
          "output_type": "stream",
          "text": [
            "tensor(2.4460, grad_fn=<MseLossBackward>)\n"
          ],
          "name": "stdout"
        }
      ]
    },
    {
      "cell_type": "markdown",
      "metadata": {
        "id": "mTpJD7awG18f"
      },
      "source": [
        "## Cross Entropy Loss\n",
        "\n",
        "probability of class membership. used in multiclass classification"
      ]
    },
    {
      "cell_type": "code",
      "metadata": {
        "id": "ju-TyIzGG18k",
        "outputId": "275223f6-d32c-4759-f1b4-57c11ba4ca4b"
      },
      "source": [
        "ce_loss = nn.CrossEntropyLoss()\n",
        "outputs = torch.rand(2,5, requires_grad=True)\n",
        "targets = torch.tensor([1,3], dtype=torch.int64)\n",
        "loss = ce_loss(outputs, targets)\n",
        "print(outputs)\n",
        "print(loss)"
      ],
      "execution_count": null,
      "outputs": [
        {
          "output_type": "stream",
          "text": [
            "tensor([[0.5652, 0.9507, 0.7263, 0.8049, 0.9538],\n",
            "        [0.3492, 0.7572, 0.1355, 0.4859, 0.6850]], requires_grad=True)\n",
            "tensor(1.5501, grad_fn=<NllLossBackward>)\n"
          ],
          "name": "stdout"
        }
      ]
    },
    {
      "cell_type": "markdown",
      "metadata": {
        "id": "Bfp7P2ZVG185"
      },
      "source": [
        "## Binary Cross-Entropy Loss\n",
        "\n",
        "probability of each class membership. used in binary classification"
      ]
    },
    {
      "cell_type": "code",
      "metadata": {
        "id": "LvpSS2A_G18_",
        "outputId": "61052ecf-54e1-425f-cab7-ea39cde50b47"
      },
      "source": [
        "bce_loss = nn.BCELoss()\n",
        "sigmoid = nn.Sigmoid()\n",
        "\n",
        "# calculate the probabilities versus the actual outputs\n",
        "probabilities = sigmoid(torch.rand(1,5, requires_grad=True))\n",
        "outputs = torch.tensor([1,1,0,0,1], dtype=torch.float32)\n",
        "\n",
        "loss = bce_loss(probabilities, outputs)\n",
        "print(probabilities)\n",
        "print(loss)"
      ],
      "execution_count": null,
      "outputs": [
        {
          "output_type": "stream",
          "text": [
            "tensor([[0.6813, 0.6832, 0.5654, 0.6786, 0.5323]], grad_fn=<SigmoidBackward>)\n",
            "tensor(0.6727, grad_fn=<BinaryCrossEntropyBackward>)\n"
          ],
          "name": "stdout"
        },
        {
          "output_type": "stream",
          "text": [
            "c:\\users\\miqda\\anaconda3\\envs\\datascience\\lib\\site-packages\\torch\\nn\\modules\\loss.py:498: UserWarning: Using a target size (torch.Size([5])) that is different to the input size (torch.Size([1, 5])) is deprecated. Please ensure they have the same size.\n",
            "  return F.binary_cross_entropy(input, target, weight=self.weight, reduction=self.reduction)\n"
          ],
          "name": "stderr"
        }
      ]
    },
    {
      "cell_type": "markdown",
      "metadata": {
        "id": "NOpBuIDuG19Z"
      },
      "source": [
        "# Supervised Learning Concepts"
      ]
    },
    {
      "cell_type": "code",
      "metadata": {
        "id": "rSMtdkEOG19b"
      },
      "source": [
        "# instantiating an optimizer\n",
        "import torch.optim as optim\n",
        "\n",
        "input_dim = 2\n",
        "learning_rate = 0.001\n",
        "\n",
        "perceptron = Perceptron(input_dim=input_dim)\n",
        "bce_loss = nn.BCELoss()\n",
        "optimizer = optim.Adam(params=perceptron.parameters(), lr=learning_rate)"
      ],
      "execution_count": null,
      "outputs": []
    },
    {
      "cell_type": "code",
      "metadata": {
        "scrolled": true,
        "id": "9EL8jc-PG19r",
        "outputId": "80e43cd6-e8bc-49ca-9d4a-0cd00faba84b"
      },
      "source": [
        "# the code is not for run\n",
        "# since the book did not give the toy data\n",
        "\n",
        "# each epoch is one cycle of training\n",
        "for epoch_i in range(n_epochs):\n",
        "    # a training cycles consists of \n",
        "    # multiple batches\n",
        "    for batch_i in range(n_batches):\n",
        "        # Step 1: getting the data\n",
        "        X_train, y_train = get_toy_data(batch_size)\n",
        "\n",
        "        # Step 2: Clear the gradients\n",
        "        perceptron.zero_grad()\n",
        "\n",
        "        # Step 3: Compute the prediction\n",
        "        # using forward pass\n",
        "        y_pred = perceptron(X_train, apply_sigmoid=True)\n",
        "\n",
        "        # Step 4: Compute the loss\n",
        "        loss = bce_loss(y_pred, y_train)\n",
        "\n",
        "        # Step 5: Propagate the loss signal backward\n",
        "        loss.backward()\n",
        "\n",
        "        # Step 6: Trigger the optimization to perform update\n",
        "        optimizer.step()"
      ],
      "execution_count": null,
      "outputs": [
        {
          "output_type": "error",
          "ename": "NameError",
          "evalue": "name 'get_toy_data' is not defined",
          "traceback": [
            "\u001b[1;31m---------------------------------------------------------------------------\u001b[0m",
            "\u001b[1;31mNameError\u001b[0m                                 Traceback (most recent call last)",
            "\u001b[1;32m<ipython-input-29-95977d0dec5b>\u001b[0m in \u001b[0;36m<module>\u001b[1;34m\u001b[0m\n\u001b[0;32m      2\u001b[0m \u001b[1;33m\u001b[0m\u001b[0m\n\u001b[0;32m      3\u001b[0m \u001b[1;31m# Step 1: getting the data\u001b[0m\u001b[1;33m\u001b[0m\u001b[1;33m\u001b[0m\u001b[1;33m\u001b[0m\u001b[0m\n\u001b[1;32m----> 4\u001b[1;33m \u001b[0mX_train\u001b[0m\u001b[1;33m,\u001b[0m \u001b[0my_train\u001b[0m \u001b[1;33m=\u001b[0m \u001b[0mget_toy_data\u001b[0m\u001b[1;33m(\u001b[0m\u001b[0mbatch_size\u001b[0m\u001b[1;33m)\u001b[0m\u001b[1;33m\u001b[0m\u001b[1;33m\u001b[0m\u001b[0m\n\u001b[0m\u001b[0;32m      5\u001b[0m \u001b[1;33m\u001b[0m\u001b[0m\n\u001b[0;32m      6\u001b[0m \u001b[1;31m# Step 2: Clear the gradients\u001b[0m\u001b[1;33m\u001b[0m\u001b[1;33m\u001b[0m\u001b[1;33m\u001b[0m\u001b[0m\n",
            "\u001b[1;31mNameError\u001b[0m: name 'get_toy_data' is not defined"
          ]
        }
      ]
    },
    {
      "cell_type": "markdown",
      "metadata": {
        "id": "VBpnICxUG199"
      },
      "source": [
        "# Classifying Sentiment of Restaurant Review\n",
        "\n",
        "## ReviewDataset Class"
      ]
    },
    {
      "cell_type": "code",
      "metadata": {
        "id": "M4KtEv-LG19_"
      },
      "source": [
        "# Create Dataset class\n",
        "from torch.utils.data import Dataset\n",
        "import pandas as pd\n",
        "\n",
        "class ReviewDataset(Dataset):\n",
        "    def __init__(self, review_df, vectorizer):\n",
        "        self.review_df = review_df\n",
        "        self._vectorizer = vectorizer\n",
        "        \n",
        "        self.train_df = self.review_df[self.review_df.split == 'train']\n",
        "        self.train_size = len(self.train_df)\n",
        "        \n",
        "        self.val_df = self.review_df[self.review_df.split == 'val']\n",
        "        self.val_size = len(self.val_df)\n",
        "        \n",
        "        self.test_df = self.review_df[self.review_df.split == 'test']\n",
        "        self.test_size = len(self.test_df)\n",
        "        \n",
        "        self._lookup_dict = {'train': (self.train_df, self.train_size),\n",
        "                            'val': (self.val_df, self.val_size),\n",
        "                            'test': (self.test_df, self.test_size)}\n",
        "        \n",
        "        self.set_split('train')\n",
        "        \n",
        "    @classmethod\n",
        "    def load_dataset_and_make_vectorizer(cls, review_csv):\n",
        "        \"\"\"Load dataset from csv and returns the dataset object\n",
        "        and vectorizer\"\"\"\n",
        "        review_df = pd.read_csv(review_csv)\n",
        "        return cls(review_df, ReviewVectorizer.from_dataframe(review_df))\n",
        "    \n",
        "    def get_vectorizer(self):\n",
        "        \"\"\"Get vectorizer\"\"\"\n",
        "        return self._vectorizer\n",
        "    \n",
        "    def set_split(self, split='train'):\n",
        "        \"\"\"Set the split from data\"\"\"\n",
        "        self._target_split = split\n",
        "        self._target_df, self._target_size = self._lookup_dict[split]\n",
        "        \n",
        "    def __len__(self):\n",
        "        return self._target_size\n",
        "    \n",
        "    def __getitem__(self, index):\n",
        "        \"\"\"the primary entry point method for PyTorch datasets\n",
        "        Args:\n",
        "            index (int): the index to the data point\n",
        "        Returns:\n",
        "            a dict of the data point's features (x_data) and label (y_target)\n",
        "        \"\"\"\n",
        "        row = self._target_df.iloc[index]\n",
        "        \n",
        "        review_vector = self._vectorizer.vectorize(row.review)\n",
        "        \n",
        "        rating_index = self._vectorizer.rating_vocab.lookup_token(row.rating)\n",
        "        \n",
        "        return {\n",
        "            'x_data' : review_vector,\n",
        "            'y_target' : rating_index\n",
        "        }\n",
        "    \n",
        "    def get_num_batches(self, batch_size):\n",
        "        \"\"\"Given the batch size return the number of batches in the dataset\"\"\"\n",
        "        return self._target_size // batch_size"
      ],
      "execution_count": 25,
      "outputs": []
    },
    {
      "cell_type": "markdown",
      "metadata": {
        "id": "BKqE6q2gG1-P"
      },
      "source": [
        "## Vocabulary Class"
      ]
    },
    {
      "cell_type": "code",
      "metadata": {
        "id": "yuR3idEYG1-S"
      },
      "source": [
        "# create vocabulary class\n",
        "class Vocabulary(object):\n",
        "    \"\"\"Class to extract and process vocabularies for mapping\"\"\"\n",
        "    \n",
        "    def __init__(self, token_to_idx=None, add_unk=True, unk_token=\"<UNK>\"):\n",
        "        if token_to_idx is None:\n",
        "            token_to_idx = {}\n",
        "        self._token_to_idx = token_to_idx\n",
        "        \n",
        "        self._idx_to_token = {\n",
        "            idx: token for token, idx in self._token_to_idx.items()\n",
        "        }\n",
        "        \n",
        "        self._add_unk = add_unk\n",
        "        self._unk_token = unk_token\n",
        "        \n",
        "        self.unk_index = -1\n",
        "        if add_unk:\n",
        "            self.unk_index = self.add_token(unk_token)\n",
        "            \n",
        "    def to_serializeable():\n",
        "        \"\"\"return a serializeable dictionary\"\"\"\n",
        "        return {\n",
        "            'token_to_idx': self._token_to_idx,\n",
        "            'add_unk': self._add_unk,\n",
        "            'unk_token': self._unk_token\n",
        "        }\n",
        "    \n",
        "    @classmethod\n",
        "    def from_serializeable(cls, contents):\n",
        "        \"\"\"create vocabulary object from serialize dictionary\"\"\"\n",
        "        return cls(**contents)\n",
        "    \n",
        "    def add_token(self, token):\n",
        "        \"\"\"Add a token and return it's index\"\"\"\n",
        "        if token in self._token_to_idx:\n",
        "            index = self._token_to_idx[token]\n",
        "        else:\n",
        "            index = len(self._token_to_idx)\n",
        "            self._token_to_idx[token] = index\n",
        "            self._idx_to_token[index] = token\n",
        "        return index\n",
        "    \n",
        "    def lookup_token(self, token):\n",
        "        \"\"\"get the index of a token \n",
        "        if not exist returns the unk_index\"\"\"\n",
        "        if self._add_unk:\n",
        "            return self._token_to_idx.get(token, self.unk_index)\n",
        "        else:\n",
        "            return self._token_to_idx[token]\n",
        "        \n",
        "    def lookup_index(self, index):\n",
        "        if index not in self._idx_to_token:\n",
        "            raise KeyError(\"the index %d is not in the vocabulary\" % index)\n",
        "        return self._idx_to_token[index]\n",
        "    \n",
        "    def __str__(self):\n",
        "        return \"<Vocabulary(size=%d)>\" % len(self)\n",
        "    \n",
        "    def __len__(self):\n",
        "        return len(self._token_to_idx)"
      ],
      "execution_count": 19,
      "outputs": []
    },
    {
      "cell_type": "markdown",
      "metadata": {
        "id": "1LymZiIiG1-g"
      },
      "source": [
        "## Vectorizer Class"
      ]
    },
    {
      "cell_type": "code",
      "metadata": {
        "id": "NL6ecwYzG1-i"
      },
      "source": [
        "import numpy as np\n",
        "from collections import Counter\n",
        "import string\n",
        "\n",
        "class ReviewVectorizer(object):\n",
        "    def __init__(self, review_vocab, rating_vocab):\n",
        "        self.review_vocab = review_vocab\n",
        "        self.rating_vocab = rating_vocab\n",
        "        \n",
        "    def vectorize(self, review):\n",
        "        \"\"\"Create one_hot vector for review\"\"\"\n",
        "        one_hot = np.zeros(len(self.review_vocab), dtype=np.float32)\n",
        "        \n",
        "        for token in review.split(\" \"):\n",
        "            if token not in string.punctuation:\n",
        "                one_hot[self.review_vocab.lookup_token(token)] = 1\n",
        "                \n",
        "        return one_hot\n",
        "    \n",
        "    @classmethod\n",
        "    def from_dataframe(cls, review_df, cutoff=25):\n",
        "        \"\"\"Instantiate a ReviewVector from dataset\"\"\"\n",
        "        \n",
        "        review_vocab = Vocabulary(add_unk=True)\n",
        "        rating_vocab = Vocabulary(add_unk=False)\n",
        "        \n",
        "        \n",
        "        # Add ratings\n",
        "        for rating in sorted(set(review_df.rating)):\n",
        "            rating_vocab.add_token(rating)\n",
        "            \n",
        "        # add words to vocabulary if the word\n",
        "        # is more than cutoff\n",
        "        words_count = Counter()\n",
        "        for review in review_df.review:\n",
        "            for word in review.split(\" \"):\n",
        "                if word not in string.punctuation:\n",
        "                    words_count[word] += 1\n",
        "                    \n",
        "        for word, count in words_count.items():\n",
        "            if count > cutoff:\n",
        "                review_vocab.add_token(word)\n",
        "                \n",
        "        return cls(review_vocab, rating_vocab)\n",
        "                \n",
        "        \n",
        "    @classmethod\n",
        "    def from_serializeable(cls, contents):\n",
        "        \"\"\"Instantiate vectorizer from serializeable\"\"\"\n",
        "        review_vocab = Vocabulary.from_serializeable(contents['review_vocab'])\n",
        "        rating_vocab = Vocabulary.from_serializeable(contents['rating_vocab'])\n",
        "        \n",
        "        return cls(review_vocab, rating_vocab)\n",
        "    \n",
        "    def to_serializeable(cls, contents):\n",
        "        return {\n",
        "            'review_vocab': cls.review_vocab.to_serializeable(),\n",
        "            'rating_vocab': cls.rating_vocab.to_serializeable()\n",
        "        }"
      ],
      "execution_count": 3,
      "outputs": []
    },
    {
      "cell_type": "markdown",
      "metadata": {
        "id": "QaRDxzRnG1-y"
      },
      "source": [
        "## Generate Batches function"
      ]
    },
    {
      "cell_type": "code",
      "metadata": {
        "id": "1CjhueZbG1-0"
      },
      "source": [
        "from torch.utils.data import DataLoader\n",
        "\n",
        "def generate_batches(dataset, batch_size, shuffle=True,\n",
        "                     drop_last=True, device=\"cpu\"):\n",
        "    \"\"\"\n",
        "    A generator function which wraps the PyTorch DataLoader. It will\n",
        "    ensure each tensor is on the write device location.\n",
        "    \"\"\"\n",
        "    dataloader = DataLoader(dataset=dataset, batch_size=batch_size,\n",
        "                           shuffle=shuffle, drop_last=drop_last)\n",
        "    \n",
        "    for data_dict in dataloader:\n",
        "        out_data_dict = {}\n",
        "        for name, tensor in data_dict.items():\n",
        "            out_data_dict[name] = data_dict[name].to(device)\n",
        "        yield out_data_dict"
      ],
      "execution_count": 26,
      "outputs": []
    },
    {
      "cell_type": "markdown",
      "metadata": {
        "id": "yx0D1EsfG1_B"
      },
      "source": [
        "## Review Classifier"
      ]
    },
    {
      "cell_type": "code",
      "metadata": {
        "id": "YYeFQ9C8G1_E"
      },
      "source": [
        "import torch.nn as nn\n",
        "import torch.nn.functional as F\n",
        "\n",
        "class ReviewClassifier(nn.Module):\n",
        "    \"\"\"Review class based on perceptron\"\"\"\n",
        "    def __init__(self, num_features):\n",
        "        \"\"\"Instantiate classifier\"\"\"\n",
        "        super(ReviewClassifier, self).__init__()\n",
        "        self.fc1 = nn.Linear(in_features= num_features,\n",
        "                            out_features= 1)\n",
        "        \n",
        "    def forward(self, x_in, apply_sigmoid=False):\n",
        "        \"\"\"Forward pass the data\"\"\"\n",
        "        y_out = self.fc1(x_in).squeeze()\n",
        "        if apply_sigmoid:\n",
        "            y_out = F.sigmoid(y_out)\n",
        "        return y_out"
      ],
      "execution_count": 21,
      "outputs": []
    },
    {
      "cell_type": "markdown",
      "metadata": {
        "id": "io7RwBfbG1_V"
      },
      "source": [
        "## Defining Training Routine"
      ]
    },
    {
      "cell_type": "code",
      "metadata": {
        "id": "t9i9N2v_IkOv",
        "outputId": "09bd9c98-f2ae-4c5d-b816-4a345f7ec1c6",
        "colab": {
          "base_uri": "https://localhost:8080/",
          "height": 35
        }
      },
      "source": [
        "from google.colab import drive\n",
        "drive.mount('/content/drive')"
      ],
      "execution_count": 6,
      "outputs": [
        {
          "output_type": "stream",
          "text": [
            "Mounted at /content/drive\n"
          ],
          "name": "stdout"
        }
      ]
    },
    {
      "cell_type": "code",
      "metadata": {
        "id": "zh5n3JUEG1_Y"
      },
      "source": [
        "from argparse import Namespace\n",
        "\n",
        "args = Namespace(\n",
        "    # Data information\n",
        "    frequency_cutoff = 25,\n",
        "    model_state_file = '/content/drive/My Drive/Colab Notebooks/Data/yelp_reviews/model.pth',\n",
        "    review_csv = '/content/drive/My Drive/Colab Notebooks/Data/yelp_reviews/reviews_with_splits_lite.csv',\n",
        "    save_dir = '/content/drive/My Drive/Colab Notebooks/Data/yelp_reviews/',\n",
        "    vectorizer_file = '/content/drive/My Drive/Colab Notebooks/Data/yelp_reviews/vectorizer.json',\n",
        "    # Training HyperParameters\n",
        "    batch_size = 128,\n",
        "    early_stopping_criteria=5,\n",
        "    learning_rate=0.001,\n",
        "    num_epochs=100,\n",
        "    seed=1337,\n",
        "    cuda=False\n",
        ")"
      ],
      "execution_count": 22,
      "outputs": []
    },
    {
      "cell_type": "code",
      "metadata": {
        "id": "fRAhP5RmG1_k",
        "outputId": "4f591fd0-757f-48eb-d604-c7777ac8f7d1",
        "colab": {
          "base_uri": "https://localhost:8080/",
          "height": 35
        }
      },
      "source": [
        "import torch.optim as optim\n",
        "import torch\n",
        "\n",
        "# create variables to record\n",
        "# the training process\n",
        "def make_train_state(args):\n",
        "    return {\n",
        "        'epoch_index':0,\n",
        "        'train_loss':[],\n",
        "        'train_acc':[],\n",
        "        'val_loss': [],\n",
        "        'val_acc': [],\n",
        "        'test_loss': -1,\n",
        "        'test_acc': -1,\n",
        "        'cuda': False,\n",
        "    }\n",
        "\n",
        "def compute_accuracy(y_pred, y_target):\n",
        "    y_target = y_target.cpu()\n",
        "    y_pred_indices = (torch.sigmoid(y_pred)>0.5).cpu().long()#.max(dim=1)[1]\n",
        "    n_correct = torch.eq(y_pred_indices, y_target).sum().item()\n",
        "    return n_correct / len(y_pred_indices) * 100\n",
        "\n",
        "train_state = make_train_state(args)\n",
        "\n",
        "if torch.cuda.is_available():\n",
        "    args.cuda = True\n",
        "args.device = torch.device(\"cuda\" if args.cuda else \"cpu\")\n",
        "\n",
        "# instantiate dataset and vectorizer\n",
        "dataset = ReviewDataset.load_dataset_and_make_vectorizer(args.review_csv)\n",
        "vectorizer = dataset.get_vectorizer()\n",
        "\n",
        "# instantiate model\n",
        "classifier = ReviewClassifier(num_features=len(vectorizer.review_vocab))\n",
        "classifier = classifier.to(args.device) # move data to device\n",
        "\n",
        "# loss and optimizer\n",
        "loss_func = nn.BCEWithLogitsLoss()\n",
        "optimizer = optim.Adam(classifier.parameters(), lr=args.learning_rate)\n",
        "\n",
        "# checking\n",
        "print(\"Using CUDA : \", args.cuda)"
      ],
      "execution_count": 27,
      "outputs": [
        {
          "output_type": "stream",
          "text": [
            "Using CUDA :  True\n"
          ],
          "name": "stdout"
        }
      ]
    },
    {
      "cell_type": "code",
      "metadata": {
        "id": "o7ZMk0xpG1_y",
        "outputId": "76d778ee-35d5-418c-88eb-a69e4cfd47e6",
        "colab": {
          "base_uri": "https://localhost:8080/",
          "height": 208,
          "referenced_widgets": [
            "ff22458db8c94fcc9d86bd923f7a3fee",
            "d4a41d907da248cb9c81a0f74264e450",
            "7d53f0ae66294c568a2fff18d48e8700",
            "0bcfd5f1119440ddb36b39736d1079f5",
            "431eed8628b24db49206e557115a0e0a",
            "0fcea04c9d274abfa534fa6d90c36a51",
            "6ab6977f08984257b7485361b10cdc91",
            "56ee7aa2fe0f4824a978b63cb93bbfc1",
            "c818d28e8c964dcb9a89d7b2f3506c47",
            "c8ca9edd3bda498d99ccec16c46896ff",
            "af082817769f44d28d933037b43c905d",
            "cbc5e3d9a52748ef88ad78c71285c464",
            "7b8b8c417abf409e8cdb618445fcfbb9",
            "3449e004095b40d2828a5b87d14cb4a3",
            "3b7fe925ad7c4dd9b8b2526f6f8a770c",
            "a9d7b00686994f28bebd712a4c4e24ba"
          ]
        }
      },
      "source": [
        "# Create training loop\n",
        "from tqdm import tqdm.notebook.tqdm\n",
        "\n",
        "epoch_bar = tqdm_notebook(desc='training routine', \n",
        "                          total=args.num_epochs,\n",
        "                          position=0)\n",
        "\n",
        "train_bar = tqdm_notebook(desc='split=train',\n",
        "                          total=dataset.get_num_batches(args.batch_size), \n",
        "                          position=1, \n",
        "                          leave=True)\n",
        "\n",
        "try:\n",
        "  for epoch_index in range(args.num_epochs):\n",
        "      train_state['epoch_index'] = epoch_index\n",
        "      \n",
        "      # setup batch generator\n",
        "      # set loss and train mode on\n",
        "      dataset.set_split('train')\n",
        "      batch_generator = generate_batches(dataset=dataset,\n",
        "                                        batch_size=args.batch_size,\n",
        "                                        device=args.device)\n",
        "      \n",
        "      running_loss = 0.0\n",
        "      running_acc = 0.0\n",
        "      classifier.train()\n",
        "      \n",
        "      for batch_index, batch_dict in enumerate(batch_generator):\n",
        "          # step 1 zero the gradients\n",
        "          optimizer.zero_grad()\n",
        "          \n",
        "          # step 2 compute the output\n",
        "          y_pred = classifier(x_in=batch_dict['x_data'].float())\n",
        "          \n",
        "          # step 3 compute the loss\n",
        "          loss = loss_func(y_pred, batch_dict['y_target'].float())\n",
        "          loss_batch = loss.item()\n",
        "          running_loss += (loss_batch - running_loss) / (batch_index + 1)\n",
        "          \n",
        "          # step 4 use loss to produce gradients\n",
        "          loss.backward()\n",
        "          \n",
        "          # step 5 use optimizer to take the gradient step\n",
        "          optimizer.step()\n",
        "          \n",
        "          # step 6 compute the acccuracy\n",
        "          acc_batch = compute_accuracy(y_pred, batch_dict['y_target'])\n",
        "          running_acc += (acc_batch - running_acc) / (batch_index + 1)\n",
        "\n",
        "          # update bar\n",
        "          train_bar.set_postfix(loss=running_loss, \n",
        "                                acc=running_acc, \n",
        "                                epoch=epoch_index)\n",
        "          train_bar.update()\n",
        "          \n",
        "      train_state['train_loss'].append(running_loss)\n",
        "      train_state['train_acc'].append(running_acc)\n",
        "      \n",
        "      # Iterate over val dataset\n",
        "      # setup: batch generator, set loss and acc to 0, set eval mode on\n",
        "      dataset.set_split('val')\n",
        "      batch_generator = generate_batches(dataset,\n",
        "                                        batch_size=args.batch_size,\n",
        "                                        device=args.device)\n",
        "      \n",
        "      running_loss = 0.\n",
        "      running_acc = 0.\n",
        "      classifier.eval()\n",
        "      \n",
        "      for batch_index, batch_dict in enumerate(batch_generator):\n",
        "          # step 1. compute the output\n",
        "          y_pred = classifier(x_in=batch_dict['x_data'].float())\n",
        "          \n",
        "          # step 2. compute the loss\n",
        "          loss = loss_func(y_pred, batch_dict['y_target'].float())\n",
        "          loss_batch = loss.item()\n",
        "          running_loss += (loss_batch - running_loss) / (batch_index + 1)\n",
        "          \n",
        "          # step 3. compute the accuracy\n",
        "          acc_batch = compute_accuracy(y_pred, batch_dict['y_target'])\n",
        "          running_acc += (acc_batch - running_acc) / (batch_index + 1)\n",
        "          train_state['val_loss'].append(running_loss)\n",
        "          train_state['val_acc'].append(running_acc)\n",
        "          \n",
        "      train_state['val_loss'].append(running_loss)\n",
        "      train_state['val_acc'].append(running_acc)\n",
        "\n",
        "      epoch_bar.update()\n",
        "except KeyboardInterrupt:\n",
        "    print(\"Exiting loop\") "
      ],
      "execution_count": 32,
      "outputs": [
        {
          "output_type": "stream",
          "text": [
            "/usr/local/lib/python3.6/dist-packages/ipykernel_launcher.py:6: TqdmDeprecationWarning: This function will be removed in tqdm==5.0.0\n",
            "Please use `tqdm.notebook.tqdm` instead of `tqdm.tqdm_notebook`\n",
            "  \n"
          ],
          "name": "stderr"
        },
        {
          "output_type": "display_data",
          "data": {
            "application/vnd.jupyter.widget-view+json": {
              "model_id": "ff22458db8c94fcc9d86bd923f7a3fee",
              "version_minor": 0,
              "version_major": 2
            },
            "text/plain": [
              "HBox(children=(FloatProgress(value=0.0, description='training routine', style=ProgressStyle(description_width=…"
            ]
          },
          "metadata": {
            "tags": []
          }
        },
        {
          "output_type": "stream",
          "text": [
            "/usr/local/lib/python3.6/dist-packages/ipykernel_launcher.py:11: TqdmDeprecationWarning: This function will be removed in tqdm==5.0.0\n",
            "Please use `tqdm.notebook.tqdm` instead of `tqdm.tqdm_notebook`\n",
            "  # This is added back by InteractiveShellApp.init_path()\n"
          ],
          "name": "stderr"
        },
        {
          "output_type": "display_data",
          "data": {
            "application/vnd.jupyter.widget-view+json": {
              "model_id": "c818d28e8c964dcb9a89d7b2f3506c47",
              "version_minor": 0,
              "version_major": 2
            },
            "text/plain": [
              "HBox(children=(FloatProgress(value=0.0, description='split=train', max=65.0, style=ProgressStyle(description_w…"
            ]
          },
          "metadata": {
            "tags": []
          }
        }
      ]
    },
    {
      "cell_type": "markdown",
      "metadata": {
        "id": "uuNac-RKmbVr"
      },
      "source": [
        "# Evaluating\n"
      ]
    },
    {
      "cell_type": "code",
      "metadata": {
        "id": "Q4zvMa-Umemc",
        "outputId": "abe3795a-bb0f-4f82-eac9-20821325b9e9",
        "colab": {
          "base_uri": "https://localhost:8080/",
          "height": 53
        }
      },
      "source": [
        "# evaluating using test data\n",
        "\n",
        "dataset.set_split('test')\n",
        "batch_generator = generate_batches(dataset,\n",
        "                                   args.batch_size,\n",
        "                                   device=args.device)\n",
        "\n",
        "running_loss = 0.\n",
        "running_acc = 0.\n",
        "classifier.eval()\n",
        "\n",
        "for batch_index, batch_dict in enumerate(batch_generator):\n",
        "  # compute the output\n",
        "  y_pred = classifier(x_in=batch_dict['x_data'].float())\n",
        "\n",
        "  # compute the loss\n",
        "  loss = loss_func(y_pred, batch_dict['y_target'].float())\n",
        "  loss_batch = loss.item()\n",
        "  running_loss += (loss_batch - running_loss) / (batch_index + 1)\n",
        "\n",
        "  # compute the accuracy\n",
        "  acc_batch = compute_accuracy(y_pred, batch_dict['y_target'])\n",
        "  running_acc += (acc_batch - running_acc) / (batch_index + 1)\n",
        "\n",
        "train_state['test_loss'] = running_loss\n",
        "train_state['test_acc'] = running_acc\n",
        "\n",
        "print(\"Test loss : {:.3f}\".format(train_state['test_loss']))\n",
        "print(\"Test acc : {:.3f}\".format(train_state['test_acc']))"
      ],
      "execution_count": 33,
      "outputs": [
        {
          "output_type": "stream",
          "text": [
            "Test loss : 0.463\n",
            "Test acc : 89.531\n"
          ],
          "name": "stdout"
        }
      ]
    },
    {
      "cell_type": "code",
      "metadata": {
        "id": "LxWsSM3_qC1T"
      },
      "source": [
        "# running inference mode\n",
        "import re\n",
        "\n",
        "def preprocess_text(text):\n",
        "    text = text.lower()\n",
        "    text = re.sub(r\"([.,!?])\", r\" \\1 \", text)\n",
        "    text = re.sub(r\"[^a-zA-Z.,!?]+\", r\" \", text)\n",
        "    return text\n",
        "\n",
        "  \n",
        "\n",
        "def predict_rating(review, classifier, vectorizer, decision_threshold=0.5):\n",
        "    \"\"\"Predict the rating of a review\"\"\"\n",
        "    review = preprocess_text(review)\n",
        "    \n",
        "    vectorized_review = torch.tensor(vectorizer.vectorize(review))\n",
        "    print(\"vectorized review \", vectorized_review)\n",
        "    result = classifier(vectorized_review.view(1, -1))\n",
        "    \n",
        "    probability_value = torch.sigmoid(result).item()\n",
        "    index = 1\n",
        "    if probability_value < decision_threshold:\n",
        "        index = 0\n",
        "\n",
        "    return vectorizer.rating_vocab.lookup_index(index)"
      ],
      "execution_count": 47,
      "outputs": []
    },
    {
      "cell_type": "code",
      "metadata": {
        "id": "BIJ3JfQ4qPXL",
        "outputId": "eb57440c-f236-44f2-d165-b7e50cf66557",
        "colab": {
          "base_uri": "https://localhost:8080/",
          "height": 53
        }
      },
      "source": [
        "test_review = \"did not going well\"\n",
        "\n",
        "classifier = classifier.cpu()\n",
        "prediction = predict_rating(test_review, classifier, vectorizer, decision_threshold=0.5)\n",
        "print(\"{} -> {}\".format(test_review, prediction))"
      ],
      "execution_count": 48,
      "outputs": [
        {
          "output_type": "stream",
          "text": [
            "vectorized review  tensor([0., 0., 0.,  ..., 0., 0., 0.])\n",
            "did not going well -> negative\n"
          ],
          "name": "stdout"
        }
      ]
    },
    {
      "cell_type": "code",
      "metadata": {
        "id": "wc0wvtSFql7X",
        "outputId": "9c3ef924-7774-4d05-c167-a5a00cb01a2a",
        "colab": {
          "base_uri": "https://localhost:8080/",
          "height": 930
        }
      },
      "source": [
        "# Inspecting\n",
        "\n",
        "# Sort weights\n",
        "fc1_weights = classifier.fc1.weight.detach()[0]\n",
        "_, indices = torch.sort(fc1_weights, dim=0, descending=True)\n",
        "indices = indices.numpy().tolist()\n",
        "print('fc1_wegiths ', fc1_weights.shape)\n",
        "print(\"indices \", indices)\n",
        "\n",
        "# Top 20 words\n",
        "print(\"Influential words in Positive Reviews:\")\n",
        "print(\"--------------------------------------\")\n",
        "for i in range(20):\n",
        "    print(vectorizer.review_vocab.lookup_index(indices[i]))\n",
        "    \n",
        "print(\"====\\n\\n\\n\")\n",
        "\n",
        "# Top 20 negative words\n",
        "print(\"Influential words in Negative Reviews:\")\n",
        "print(\"--------------------------------------\")\n",
        "indices.reverse()\n",
        "for i in range(20):\n",
        "    print(vectorizer.review_vocab.lookup_index(indices[i]))"
      ],
      "execution_count": 46,
      "outputs": [
        {
          "output_type": "stream",
          "text": [
            "fc1_wegiths  torch.Size([8945])\n",
            "indices  [8619, 8323, 8918, 8789, 8438, 8667, 8936, 8871, 8915, 8578, 8937, 8425, 5107, 8185, 8202, 5832, 8145, 8846, 6074, 7517, 8673, 8798, 7228, 2834, 745, 7950, 8849, 8729, 7360, 1474, 8842, 7453, 7806, 3650, 8015, 5964, 8939, 7784, 8491, 8212, 7736, 8429, 8030, 8912, 7869, 8219, 8933, 7944, 6297, 7634, 8923, 5947, 6954, 7744, 8690, 8061, 8938, 3019, 8925, 8943, 8848, 8562, 6364, 7786, 8932, 8935, 7009, 8940, 5481, 8944, 8198, 8931, 7835, 3802, 6126, 7603, 7886, 5444, 6841, 8253, 8631, 4952, 8626, 7829, 8553, 6102, 8751, 1711, 8561, 6110, 8600, 8510, 8930, 6803, 7710, 8335, 6198, 8414, 8338, 7912, 7277, 4097, 8509, 8638, 8926, 8146, 5888, 8243, 7306, 7282, 8811, 8731, 4809, 8696, 4764, 8362, 8324, 3769, 8675, 6153, 8068, 1837, 759, 8922, 7883, 8591, 5799, 7542, 7762, 7938, 7717, 7464, 4587, 6729, 8452, 7966, 8893, 5070, 8683, 8941, 6702, 6387, 8874, 5630, 6704, 8242, 8352, 8651, 8331, 5868, 8512, 7028, 8659, 8036, 8869, 7978, 8402, 8608, 8890, 8898, 8150, 5397, 8775, 8934, 8095, 4426, 7262, 7018, 7239, 5002, 8924, 5547, 8942, 3685, 4716, 7805, 8908, 7669, 8691, 7051, 8418, 8077, 4864, 4448, 8559, 5490, 7113, 8906, 8560, 8398, 6120, 7897, 7198, 8007, 6277, 8590, 6428, 8684, 8006, 1941, 5214, 8322, 7387, 6777, 8889, 8794, 7029, 8785, 8862, 5605, 2817, 1126, 8376, 6273, 7960, 8340, 4656, 6823, 8005, 8773, 5732, 6410, 8482, 8692, 6182, 8709, 4395, 4681, 8630, 6283, 8886, 5170, 8114, 1376, 8027, 8643, 7389, 8611, 5414, 7179, 6846, 5577, 4234, 8771, 5835, 8647, 1359, 2207, 7942, 6325, 7982, 5892, 8928, 8593, 5003, 7131, 5269, 6457, 8882, 2499, 6107, 3073, 7729, 4446, 8836, 6091, 8621, 8171, 724, 5089, 7256, 2433, 8466, 3549, 6086, 8714, 7609, 5647, 5338, 8697, 7952, 6451, 7139, 4159, 1643, 2648, 1701, 8897, 7026, 5521, 5909, 5660, 8657, 7234, 7512, 8911, 1360, 6474, 8545, 8301, 8125, 6423, 7001, 4849, 7345, 5806, 2489, 8196, 6639, 8556, 2432, 8644, 8747, 7839, 4009, 6321, 2493, 8737, 8563, 4470, 8153, 8748, 6320, 8646, 8326, 8861, 8772, 6240, 8728, 5427, 2803, 8595, 1421, 8761, 5665, 6020, 1983, 5722, 6281, 8878, 8640, 4163, 6822, 4498, 8131, 8776, 3515, 8133, 5957, 6911, 8744, 4935, 5528, 7324, 7454, 8817, 6392, 7997, 8548, 7595, 2049, 902, 6798, 7168, 4889, 4774, 6909, 6268, 4318, 7602, 8685, 6944, 7504, 1386, 2172, 6812, 4057, 8910, 8371, 7751, 8475, 5426, 5974, 8589, 5575, 8126, 3675, 1200, 8883, 5279, 6414, 1488, 8765, 4785, 6362, 8442, 7288, 1820, 8345, 3215, 8795, 3192, 7500, 7704, 8092, 1866, 4377, 6792, 7620, 6956, 7577, 7358, 6422, 7386, 6578, 8056, 7270, 8347, 5718, 8818, 8439, 6358, 6498, 8401, 8147, 1702, 5362, 6967, 7470, 4953, 7130, 2244, 8681, 7340, 3903, 8888, 3317, 5445, 1944, 7142, 4512, 2634, 8838, 3506, 7629, 7674, 2944, 6319, 8833, 3623, 6991, 7927, 7359, 3005, 8750, 583, 4336, 6888, 8019, 5219, 8280, 2831, 3798, 7439, 3797, 3612, 4086, 3812, 3608, 8523, 2545, 8480, 346, 4954, 3247, 2842, 1599, 8571, 8088, 5358, 4275, 2941, 1587, 7268, 5704, 7049, 8306, 1834, 2841, 6984, 8055, 5596, 626, 1557, 6267, 4423, 3848, 6395, 6493, 4732, 6203, 6311, 7031, 8614, 5483, 5687, 8606, 5461, 7417, 8189, 3983, 6429, 3210, 5111, 1526, 8819, 7428, 8314, 8743, 8808, 8354, 5715, 8485, 985, 3254, 3342, 3648, 7822, 6744, 2638, 7983, 7851, 7916, 6003, 7951, 7799, 7914, 1494, 4932, 6974, 6658, 6532, 8877, 8038, 7440, 6572, 8909, 6046, 7862, 3619, 3706, 6173, 1593, 5983, 6553, 8713, 6497, 2251, 4740, 3146, 7730, 6923, 7331, 8003, 6576, 6431, 3304, 7510, 8520, 8240, 6436, 4841, 2290, 6534, 6127, 196, 7399, 4022, 2144, 977, 8260, 8303, 5933, 2778, 5043, 5243, 7068, 6355, 482, 7251, 5008, 8182, 8400, 7255, 4837, 8757, 6873, 7623, 3907, 4294, 1222, 8656, 6098, 3794, 7433, 6971, 7569, 3854, 4291, 5774, 7213, 7118, 3946, 8850, 2795, 5394, 4222, 6221, 4235, 1733, 5166, 2736, 4986, 3819, 1571, 7659, 7416, 5578, 8364, 6155, 7181, 7423, 7204, 8101, 3668, 8884, 7272, 5309, 6266, 8031, 4943, 1805, 5900, 6443, 6389, 8780, 6039, 3091, 8538, 7363, 2679, 599, 8057, 4502, 3938, 4516, 4772, 8229, 8455, 180, 3971, 2561, 7070, 6977, 8534, 8333, 1966, 2077, 6861, 3677, 7956, 6637, 6981, 2907, 2311, 5695, 5913, 6881, 7259, 8290, 5793, 2799, 4661, 5113, 8032, 8823, 7199, 8395, 3392, 8844, 3649, 8717, 8533, 5844, 5779, 8224, 8230, 7821, 5748, 3233, 7176, 984, 8602, 4823, 1401, 5515, 2359, 8207, 1849, 8723, 8383, 4495, 5519, 6179, 4331, 5733, 3038, 4601, 6719, 7562, 7859, 853, 4680, 4325, 3327, 3901, 465, 5556, 7123, 6843, 175, 3114, 6883, 8487, 6479, 7404, 7329, 4463, 5415, 5217, 8552, 3556, 2063, 3163, 4147, 2176, 5763, 6377, 6454, 8349, 7452, 7769, 8408, 7200, 7680, 5327, 5212, 399, 8803, 2513, 4151, 2771, 1384, 8568, 8511, 8688, 7920, 3861, 4816, 5657, 8413, 5856, 8334, 8543, 8905, 1332, 6752, 2497, 6580, 6585, 672, 8474, 5136, 8417, 7247, 5982, 4688, 6842, 8330, 5549, 3076, 1880, 7509, 2014, 8502, 6548, 7961, 1444, 8479, 3453, 7958, 4850, 1490, 4365, 4312, 4957, 5589, 6291, 7493, 4806, 4362, 8464, 6788, 2449, 5319, 5390, 4792, 3273, 3464, 6123, 525, 8305, 6473, 4662, 5102, 4900, 5098, 6916, 1159, 8539, 3028, 6289, 5995, 8170, 3923, 2958, 6466, 8826, 4517, 6049, 3137, 405, 8551, 8749, 5020, 709, 3333, 2898, 6105, 1338, 1291, 5466, 5248, 5852, 4576, 5041, 8279, 3940, 7058, 7476, 4536, 8411, 5545, 7533, 2372, 102, 1129, 4511, 4113, 4575, 8900, 5201, 7388, 7354, 3592, 638, 6722, 4153, 6133, 4640, 5925, 5144, 8075, 5893, 7092, 6570, 1565, 6456, 5822, 4172, 6271, 7471, 5717, 5278, 2308, 6033, 1937, 6315, 8084, 5693, 3741, 2424, 8841, 4593, 8223, 8594, 5895, 8847, 5638, 6982, 6657, 4148, 7038, 6486, 8140, 5340, 2511, 5632, 6136, 2534, 4059, 3579, 6374, 8830, 6347, 6391, 6384, 7455, 4819, 8800, 6653, 8270, 4409, 159, 8372, 8854, 4105, 4532, 5750, 6605, 2965, 3009, 5674, 2080, 7787, 8689, 6738, 8248, 4808, 8596, 2020, 2405, 4013, 7915, 4064, 1758, 7167, 6979, 7907, 7254, 5566, 5726, 8870, 2231, 4697, 5824, 6683, 1019, 3832, 7195, 7095, 5680, 7591, 6160, 8445, 254, 3963, 3692, 4507, 587, 4201, 7431, 5135, 8449, 1153, 6697, 8247, 8504, 3519, 6917, 7694, 5614, 7633, 6255, 1348, 3584, 3841, 7442, 8567, 6723, 8710, 8896, 2090, 3699, 7887, 2408, 4210, 2299, 1438, 5361, 2674, 7881, 5906, 7258, 5411, 7119, 5294, 8293, 1621, 1122, 4541, 6650, 5066, 4256, 286, 8062, 6636, 4784, 3162, 8073, 3859, 7586, 7873, 7008, 3395, 917, 665, 2121, 5615, 8177, 1995, 6747, 7612, 4186, 8495, 8920, 8424, 3357, 4668, 3679, 8163, 8136, 7521, 3410, 8321, 8903, 3287, 4583, 5457, 5224, 5646, 2992, 7871, 8117, 4161, 4094, 6250, 5966, 6727, 5539, 3642, 8453, 5643, 8040, 7184, 2124, 2196, 1320, 8155, 2031, 7972, 6373, 590, 7718, 6095, 5229, 4207, 6236, 6945, 8451, 6076, 3040, 1090, 3779, 5242, 2017, 1528, 6008, 7896, 8433, 7582, 5039, 7226, 4052, 2801, 7378, 3639, 4613, 4209, 8813, 6378, 6082, 8902, 5905, 8612, 2654, 1999, 3553, 7688, 8791, 8652, 2201, 3738, 6487, 4054, 8304, 2010, 3266, 7587, 4249, 6460, 2717, 6529, 7261, 7599, 7754, 7111, 5346, 6608, 7845, 5543, 5085, 6366, 6633, 4846, 5038, 1440, 5117, 5123, 3652, 2352, 8610, 6141, 6125, 6144, 4645, 4611, 1021, 8867, 6664, 939, 6210, 6610, 5056, 3223, 4288, 6165, 6031, 8217, 189, 7812, 4083, 7794, 4271, 6544, 5945, 7341, 7035, 8263, 4123, 7196, 2096, 8759, 2532, 5158, 5095, 8110, 1918, 2607, 4607, 7337, 6025, 3277, 8123, 7385, 3251, 691, 6910, 5941, 5336, 4667, 2824, 5961, 8388, 7022, 7998, 3157, 6876, 8481, 4789, 8337, 5653, 2183, 5470, 6071, 7643, 8828, 6591, 3952, 2785, 6520, 8391, 8004, 8607, 2793, 7205, 3100, 1736, 3150, 3548, 7448, 2766, 4401, 5789, 4273, 5106, 4787, 7238, 7064, 8580, 7221, 4368, 7170, 2152, 1835, 7858, 7990, 6264, 7613, 8755, 3032, 6709, 1770, 7672, 2065, 3122, 2982, 1380, 4479, 4323, 4643, 4253, 3681, 4308, 5869, 567, 502, 3752, 4200, 7153, 8049, 1389, 4646, 1482, 6408, 6336, 3289, 7160, 8204, 3723, 2278, 3211, 4975, 4893, 272, 3695, 4714, 4055, 6809, 3593, 2973, 536, 5810, 426, 3082, 7573, 8864, 8577, 6647, 3666, 845, 7809, 5059, 3973, 8302, 2934, 2605, 2446, 8343, 7308, 6122, 5208, 3499, 3628, 1022, 4805, 6527, 4884, 6214, 8193, 2270, 2933, 8255, 2184, 1039, 5914, 3672, 4546, 1244, 2354, 1243, 6352, 6732, 8234, 7515, 7016, 1753, 5813, 8107, 8431, 4562, 2073, 860, 3862, 1453, 8346, 8860, 450, 1829, 5304, 2439, 3721, 1875, 8599, 5796, 1950, 8144, 6692, 3292, 8023, 2397, 5303, 4705, 3825, 4514, 2994, 4538, 3807, 8044, 6893, 2723, 6164, 6023, 6754, 8072, 6469, 5532, 2591, 7778, 3808, 5850, 3203, 7715, 6625, 6461, 3048, 5677, 1314, 4569, 7666, 4556, 4873, 423, 6651, 7377, 2835, 7005, 5536, 7838, 5608, 4162, 5288, 5688, 4268, 8269, 5712, 4798, 949, 2866, 4682, 7779, 4068, 5942, 8592, 8518, 3993, 2862, 2779, 974, 8297, 3230, 7088, 6057, 2331, 4694, 8389, 7831, 4188, 7926, 4992, 3678, 7265, 3396, 1020, 6006, 7236, 6947, 1842, 2118, 8112, 8615, 8866, 7384, 1031, 3454, 8894, 3441, 6331, 611, 4346, 7398, 8916, 7703, 6363, 7947, 7217, 8624, 8783, 5428, 8574, 2540, 2770, 8661, 1216, 1045, 1551, 3134, 1354, 8341, 192, 7147, 7534, 878, 2247, 7067, 2137, 6162, 8547, 1898, 3479, 7540, 3702, 4835, 3451, 1909, 1240, 2895, 1846, 3346, 4169, 8677, 5902, 5807, 6845, 7075, 2234, 1785, 1980, 6652, 8812, 7856, 1839, 8246, 6799, 7875, 6562, 7555, 5372, 3111, 3413, 3516, 6452, 5388, 2075, 7682, 7078, 882, 5672, 1052, 1899, 8241, 5891, 5093, 8264, 2382, 5972, 5739, 4765, 3635, 5155, 6926, 6405, 6279, 2420, 6907, 5735, 3785, 2780, 4867, 5762, 4902, 4701, 5416, 5436, 7090, 8288, 6140, 7374, 1638, 5109, 5010, 3468, 2656, 8843, 1730, 3368, 5311, 3016, 1668, 5955, 4299, 2931, 6751, 516, 2623, 8129, 5667, 7566, 467, 763, 6190, 1381, 2371, 6808, 6205, 1247, 8682, 4518, 4899, 4499, 8315, 2145, 4002, 1121, 7072, 2452, 4793, 5649, 7908, 2255, 4759, 7679, 3015, 4674, 5205, 5795, 6298, 674, 4027, 7631, 7371, 8025, 6350, 5535, 4422, 6969, 2465, 5341, 4033, 3931, 4598, 7768, 3263, 5785, 8784, 364, 8420, 8011, 8760, 2905, 8797, 3193, 334, 7782, 7320, 8265, 8648, 2900, 945, 8078, 4431, 6275, 3530, 678, 2093, 8428, 5710, 8707, 2959, 4663, 7857, 6860, 1558, 6313, 6418, 5678, 4649, 5828, 1315, 1189, 2413, 3323, 1737, 3724, 5353, 4530, 3411, 7628, 6930, 6357, 1413, 6042, 3382, 1923, 6521, 5387, 6558, 1357, 8858, 7152, 2791, 6616, 7651, 2501, 7097, 2756, 6703, 7681, 4067, 7362, 1256, 3813, 479, 4807, 2495, 5284, 3585, 8814, 4127, 431, 7975, 7479, 7844, 4324, 6985, 998, 8605, 7444, 8899, 1888, 8195, 1162, 5529, 6517, 5700, 4310, 916, 7759, 5954, 2492, 632, 8292, 2337, 4001, 6001, 4777, 6905, 5286, 5520, 5585, 4771, 6552, 2084, 4606, 4414, 6342, 3141, 4528, 2021, 5494, 226, 3602, 4780, 2963, 873, 1093, 4320, 5188, 7957, 5963, 4973, 531, 7790, 6260, 5579, 1032, 5172, 345, 6103, 8663, 3587, 3227, 4130, 6112, 4827, 3997, 3550, 8740, 8298, 4304, 4136, 5439, 8115, 6280, 1544, 3308, 6226, 7973, 4021, 6819, 5754, 8666, 4047, 2629, 4408, 3482, 3399, 911, 3998, 5357, 6222, 5711, 7996, 6197, 3564, 1510, 5363, 4178, 7585, 3655, 1228, 4875, 5399, 7709, 2414, 4706, 1492, 7928, 6401, 5953, 8070, 6922, 6241, 2586, 2472, 1955, 7656, 8494, 3455, 592, 4861, 6156, 2030, 5764, 8802, 1210, 8120, 4534, 870, 4417, 1455, 1144, 4076, 6884, 7525, 1586, 2350, 5009, 3148, 5240, 3622, 933, 721, 2840, 1110, 7050, 1155, 2864, 4219, 2525, 8483, 8407, 6817, 7284, 3970, 7252, 901, 7343, 6742, 1480, 8002, 5636, 7367, 4831, 1151, 4254, 7165, 6223, 8258, 449, 5640, 4302, 8541, 4066, 4626, 2667, 5648, 7063, 5392, 6920, 6121, 6666, 3092, 6111, 1118, 8089, 6411, 8181, 3123, 1487, 8065, 2399, 8633, 3135, 5092, 8821, 6060, 4905, 2995, 1461, 7441, 1371, 3767, 5276, 7077, 800, 1862, 5297, 3589, 4241, 8313, 8629, 3060, 5055, 7397, 5249, 2159, 1035, 2991, 4758, 7339, 2967, 6781, 3800, 7279, 776, 4100, 7503, 5379, 8573, 660, 3834, 1538, 8238, 4980, 4851, 2797, 8695, 4703, 2426, 1145, 2041, 3213, 6806, 8569, 8706, 881, 3676, 8829, 4460, 3512, 3697, 5587, 582, 2812, 3343, 5565, 6044, 2844, 4513, 6501, 4443, 3373, 3795, 2404, 121, 4290, 1419, 5434, 5419, 5517, 4373, 2948, 6764, 811, 900, 5859, 6567, 5413, 1196, 3597, 5316, 6596, 6837, 4788, 5827, 4602, 1170, 1651, 7665, 5582, 6755, 3049, 1554, 8286, 2882, 720, 8108, 5063, 3545, 3425, 736, 6263, 307, 5270, 7186, 400, 8394, 6588, 1787, 7225, 6202, 5890, 5044, 1184, 5287, 3581, 7906, 3469, 8680, 7775, 3936, 1793, 4196, 4138, 5839, 4824, 5526, 7055, 8461, 1334, 7638, 7615, 313, 2398, 8507, 1143, 3389, 4638, 2631, 5553, 630, 1532, 3531, 6341, 5129, 8693, 888, 7505, 7481, 6793, 554, 5301, 3547, 3044, 1521, 3365, 1917, 6980, 5886, 8721, 6714, 7893, 2507, 1405, 3788, 921, 3734, 1959, 838, 5475, 5165, 5882, 6901, 4603, 6168, 546, 6620, 8907, 5794, 7482, 7622, 7436, 1821, 5199, 1652, 3018, 8254, 2916, 8261, 8579, 2856, 1775, 4970, 6249, 5881, 5435, 5122, 513, 966, 4586, 4566, 1175, 5541, 7006, 1471, 3603, 3236, 4386, 8722, 5471, 331, 3876, 4279, 6326, 8423, 4540, 49, 3250, 6496, 2800, 6807, 8094, 4790, 5772, 607, 604, 4016, 3120, 5376, 5542, 3033, 2094, 4623, 8273, 3615, 4942, 2618, 3497, 4199, 5460, 2268, 713, 2002, 3712, 4639, 6953, 1792, 5728, 8268, 7292, 1199, 2622, 1572, 4452, 3773, 1798, 1344, 7046, 6238, 4114, 5075, 8570, 1946, 7795, 2828, 6075, 7486, 1261, 7352, 4791, 5384, 5944, 3790, 1751, 4088, 4949, 8465, 7463, 2104, 813, 1235, 6821, 1704, 1264, 1259, 6080, 7143, 1989, 4060, 8106, 6690, 2151, 8524, 4853, 2355, 1499, 967, 1215, 7720, 1333, 5168, 5321, 4859, 6894, 1982, 2055, 8358, 1877, 3030, 2194, 2502, 8167, 8876, 1962, 4262, 4328, 835, 6209, 2546, 1221, 4120, 4238, 7783, 795, 4505, 8620, 6734, 3439, 4048, 2606, 5918, 8026, 3714, 6646, 6689, 594, 7823, 2253, 6096, 8339, 3860, 1213, 2479, 7121, 4250, 367, 5571, 5496, 2572, 1091, 5473, 847, 8328, 5216, 7007, 2181, 8237, 8669, 4206, 4171, 5977, 2484, 7293, 6446, 7229, 3731, 136, 922, 2969, 5174, 4529, 1564, 6178, 2500, 5753, 1298, 8535, 2875, 8625, 7478, 7671, 6824, 7459, 2632, 7911, 8194, 919, 1483, 2182, 4017, 8670, 4552, 1302, 5261, 4775, 6736, 2517, 6014, 1443, 3961, 3272, 4239, 2807, 7025, 4665, 2455, 5598, 5784, 2341, 3240, 7212, 4710, 3220, 8385, 5391, 1986, 5448, 5694, 8435, 3397, 2567, 3897, 6539, 8016, 6925, 5335, 6158, 8726, 6737, 198, 3145, 3823, 6619, 5262, 2494, 4285, 3435, 4341, 7216, 4376, 7287, 255, 7140, 2798, 7678, 855, 8245, 3090, 1771, 2407, 2706, 2315, 4497, 2903, 4520, 7375, 4897, 6784, 3139, 7000, 1871, 5171, 938, 6316, 2689, 8098, 3942, 6677, 1884, 3075, 1911, 3191, 7904, 3000, 3810, 8653, 8458, 931, 249, 5223, 2837, 1018, 804, 1237, 2904, 2284, 5878, 4630, 8139, 3884, 3855, 8597, 696, 3185, 786, 5502, 6253, 5551, 7780, 6390, 5815, 4353, 6958, 6117, 1682, 4369, 7522, 1337, 2914, 708, 1463, 1086, 2214, 4058, 3406, 7304, 1081, 8043, 1311, 677, 7309, 6839, 8384, 4176, 4906, 6251, 2660, 8471, 442, 6170, 4910, 6856, 6437, 2474, 2557, 5173, 1782, 646, 3129, 4491, 8037, 2547, 6304, 7712, 3957, 8122, 5124, 4886, 2744, 5544, 4760, 5238, 2633, 1293, 6054, 3004, 1002, 8467, 1994, 2318, 1454, 1014, 3636, 7691, 7278, 8008, 3306, 1125, 6146, 7071, 3195, 2260, 2833, 4342, 1938, 5177, 8662, 792, 3325, 6767, 2653, 5706, 2385, 4647, 7698, 8220, 2016, 848, 1838, 825, 3257, 6043, 1764, 3407, 7902, 88, 3510, 5153, 3968, 2298, 7741, 2109, 3568, 3377, 4997, 2401, 5991, 7995, 4246, 7419, 6371, 2604, 3496, 8048, 8396, 17, 4165, 2531, 831, 6904, 4133, 4636, 2565, 2774, 2775, 4768, 6212, 1187, 3330, 6427, 3926, 6078, 8024, 1044, 4074, 2678, 4920, 5204, 5447, 4778, 2792, 4382, 6481, 7356, 3542, 40, 2680, 649, 8917, 1993, 3601, 4189, 5513, 8034, 4080, 3669, 2421, 7547, 2072, 3574, 1182, 300, 3022, 5126, 7289, 6335, 96, 1823, 2245, 8506, 1781, 1630, 4107, 2787, 5078, 3421, 1525, 8386, 1273, 5731, 758, 1602, 1789, 8232, 6864, 3611, 2737, 3918, 343, 4154, 4175, 1258, 2981, 7045, 8186, 1138, 3268, 5761, 3951, 894, 2627, 1149, 4842, 3284, 8498, 4964, 5970, 1735, 7206, 3561, 3249, 3965, 143, 3011, 7593, 1925, 1772, 7034, 4467, 8863, 1761, 8226, 7889, 7248, 5752, 2782, 354, 5489, 6093, 6587, 2964, 3153, 7635, 6912, 8188, 3620, 3283, 446, 1351, 553, 41, 3828, 8581, 1486, 935, 1708, 2521, 1555, 4350, 4043, 2915, 1411, 392, 3132, 1997, 2960, 6941, 7456, 5786, 1520, 7041, 5671, 4544, 7531, 2735, 875, 3571, 1570, 7117, 5015, 2427, 2923, 3408, 6710, 7449, 7467, 8113, 4919, 3212, 6642, 797, 1496, 4994, 1313, 2636, 3261, 3950, 8295, 243, 908, 1750, 1098, 6468, 1524, 5071, 833, 836, 4327, 4355, 2570, 2166, 2829, 3400, 3458, 4937, 3380, 826, 3840, 5160, 6699, 1353, 4524, 3783, 1300, 1148, 1653, 7802, 7336, 6892, 4599, 790, 3811, 209, 8235, 6239, 5040, 471, 4615, 6770, 3726, 5814, 2056, 4337, 3450, 8257, 2977, 4641, 8853, 1080, 5527, 7987, 1767, 7109, 670, 7033, 464, 3770, 1400, 6169, 7513, 5773, 6234, 3116, 1790, 1502, 2925, 2486, 4525, 4255, 3727, 3845, 312, 26, 6716, 2846, 1132, 8655, 4216, 4956, 3748, 1677, 3416, 4412, 5724, 1501, 3037, 5620, 851, 3955, 7023, 5999, 4166, 3919, 4146, 5405, 5256, 4218, 4118, 487, 2843, 1581, 2235, 2867, 6010, 3539, 214, 7487, 8459, 7931, 4684, 3538, 2189, 6629, 3217, 1886, 6048, 80, 1669, 2218, 1714, 6618, 8895, 6550, 534, 5500, 7317, 5323, 7563, 4828, 8901, 874, 3058, 6561, 6929, 6483, 5996, 4322, 1000, 821, 5354, 4976, 1343, 5838, 2313, 332, 4447, 5676, 5083, 7537, 8319, 6787, 4721, 8393, 8206, 8546, 2947, 7511, 7866, 301, 6237, 130, 6188, 5749, 6962, 1874, 1504, 3838, 2438, 4563, 7014, 3348, 2053, 1062, 6243, 3881, 2314, 6586, 5603, 4126, 5127, 6769, 5934, 1477, 3470, 2686, 7895, 1810, 1029, 832, 2671, 1901, 8379, 2246, 8029, 8103, 545, 7594, 64, 1576, 2092, 1234, 4728, 3485, 8497, 3588, 7548, 4007, 2577, 6444, 266, 2989, 1321, 369, 4928, 7880, 7429, 4354, 2001, 6537, 4091, 8804, 4983, 5516, 2585, 2768, 2836, 3243, 1573, 1267, 7057, 1673, 5029, 4862, 1893, 6139, 1617, 6151, 7616, 470, 3443, 778, 7963, 7498, 5211, 1956, 7409, 5097, 5821, 6024, 7658, 3753, 7755, 7002, 3288, 5588, 7742, 5110, 2849, 1939, 1645, 4332, 4266, 2186, 6756, 5926, 495, 780, 2976, 5730, 561, 8796, 8658, 4251, 3886, 711, 2293, 562, 923, 2140, 5298, 303, 1207, 2637, 7273, 1814, 8102, 3433, 1179, 438, 4490, 2237, 191, 856, 6540, 3282, 2204, 2249, 5246, 7191, 1715, 7149, 4459, 4455, 2624, 3020, 1263, 4281, 1506, 3221, 2754, 5252, 2522, 7264, 1931, 858, 4811, 4944, 6577, 6426, 8851, 1439, 2027, 7726, 493, 370, 1908, 6832, 755, 6138, 5843, 6149, 4901, 5432, 6621, 3710, 3461, 6308, 4284, 7673, 451, 1774, 1193, 2320, 6913, 8537, 904, 3865, 7949, 7605, 5266, 5132, 7550, 2510, 5679, 3541, 5661, 6128, 5486, 485, 6790, 3293, 5867, 1083, 4242, 4449, 1072, 5030, 5771, 6329, 3367, 5396, 1472, 6906, 5326, 7202, 5949, 2675, 5463, 4372, 2353, 7224, 3344, 6259, 7010, 4099, 4035, 3945, 952, 4195, 7837, 4050, 2000, 4616, 1485, 463, 4053, 2365, 444, 105, 2349, 462, 969, 905, 1015, 8872, 1101, 3764, 3665, 1308, 7774, 3912, 5042, 4506, 1024, 3467, 7457, 8470, 7693, 5751, 1497, 636, 8493, 1276, 5602, 7271, 7125, 3746, 3226, 7094, 5911, 1171, 7919, 1988, 2107, 5777, 418, 4483, 3489, 3688, 3155, 6643, 437, 1462, 8831, 5923, 3045, 8422, 5956, 5637, 414, 3391, 2390, 4527, 2325, 2225, 5959, 3088, 699, 4580, 1897, 1307, 4522, 4087, 8289, 2035, 5631, 5021, 389, 2418, 924, 1954, 1120, 8492, 4989, 5870, 2930, 4909, 3232, 3208, 4917, 7138, 3241, 8208, 729, 5407, 3170, 4557, 850, 2100, 548, 1346, 936, 1011, 1130, 3062, 4416, 2464, 4677, 1661, 7967, 14, 5497, 1796, 884, 6830, 823, 3144, 1826, 7870, 5289, 3053, 4794, 2275, 341, 172, 1927, 2483, 6119, 8732, 5910, 498, 910, 3527, 5599, 4664, 885, 2139, 7073, 5367, 5014, 1077, 717, 433, 8642, 1470, 5621, 4204, 1183, 2589, 2888, 5683, 7079, 2818, 723, 2005, 2363, 3663, 1566, 5652, 4874, 3452, 5105, 1422, 6218, 4340, 6791, 2436, 8200, 529, 689, 2719, 6225, 544, 1133, 7689, 7772, 3078, 4326, 78, 7639, 3338, 7930, 5950, 6472, 7544, 2361, 3422, 253, 6032, 406, 4287, 639, 1531, 239, 4820, 2682, 2193, 602, 1804, 6614, 5328, 4473, 3502, 4865, 7528, 7188, 3097, 6693, 3595, 3181, 4934, 834, 4152, 7037, 676, 2646, 2387, 8138, 5386, 8287, 3337, 1204, 2343, 775, 8515, 2038, 2295, 111, 6424, 1066, 4567, 3390, 771, 149, 161, 5973, 2491, 8132, 8827, 339, 2316, 2748, 7868, 7583, 742, 5339, 7828, 6059, 1173, 7076, 956, 4689, 1372, 5885, 4451, 3350, 1456, 3231, 402, 92, 2937, 4879, 5077, 1512, 5383, 2019, 2753, 97, 5823, 5194, 224, 5209, 4895, 7731, 361, 2462, 3524, 953, 702, 5198, 5446, 893, 1192, 4747, 7702, 5048, 2240, 1107, 34, 1802, 4927, 3286, 928, 1890, 1851, 2303, 411, 5163, 4185, 7175, 327, 5610, 1679, 1614, 7180, 215, 1882, 7735, 6034, 5046, 6224, 3621, 8777, 6783, 7841, 3420, 1383, 8660, 8499, 7105, 3709, 2209, 52, 6430, 7474, 8311, 7646, 2101, 774, 7172, 177, 1415, 7032, 2164, 1634, 6287, 127, 7827, 5583, 5477, 100, 169, 6359, 4142, 404, 595, 4877, 2281, 4476, 4926, 8432, 5666, 4564, 6659, 199, 7798, 119, 4276, 6675, 3103, 4477, 8550, 3332, 225, 4309, 2794, 4131, 1732, 807, 8022, 2612, 2732, 1533, 216, 1306, 2496, 1285, 741, 484, 6870, 5572, 569, 2715, 8216, 7122, 6825, 5967, 1229, 2357, 1427, 3849, 2130, 1612, 7491, 3528, 3456, 2911, 59, 3070, 540, 1745, 1385, 7909, 8702, 4333, 2742, 3199, 1705, 1089, 2896, 227, 5005, 8741, 3989, 4594, 930, 6248, 5086, 7087, 918, 6152, 4854, 6402, 1268, 4269, 3980, 3804, 1115, 1245, 4421, 89, 2444, 1633, 4072, 6206, 7408, 2912, 6766, 2677, 2297, 8201, 2901, 3765, 2913, 2458, 7815, 3401, 2962, 4881, 5986, 2400, 5222, 51, 3149, 3206, 4545, 2894, 289, 4699, 4428, 2542, 7697, 7108, 2192, 981, 1056, 2291, 7670, 3870, 2132, 203, 5251, 5874, 2704, 2106, 512, 233, 3562, 537, 7027, 2558, 3096, 2877, 3267, 2122, 1817, 2922, 2722, 6853, 4150, 915, 5305, 4509, 374, 1947, 7210, 7714, 1915, 988, 8544, 3366, 3002, 803, 6526, 204, 6295, 2690, 4274, 4826, 3722, 5916, 756, 7162, 2114, 3758, 7403, 1262, 3360, 3762, 2386, 940, 4270, 268, 6026, 4317, 995, 3630, 3198, 4908, 2447, 4404, 3911, 2167, 4144, 4969, 4608, 103, 394, 6159, 363, 3725, 659, 2996, 707, 3102, 5504, 3917, 575, 1725, 387, 4101, 2498, 3183, 176, 6687, 7604, 1885, 1297, 2306, 947, 8781, 1232, 1394, 3167, 2345, 558, 2784, 2136, 494, 4876, 5191, 7695, 4654, 978, 43, 456, 622, 2395, 8317, 4301, 2839, 4550, 2362, 483, 8582, 3511, 7053, 5296, 6915, 8244, 897, 3766, 841, 7549, 7664, 6678, 987, 3270, 7588, 1721, 107, 132, 3301, 5971, 270, 1154, 4840, 4264, 391, 6998, 2968, 700, 7215, 4748, 2319, 1177, 5670, 125, 1824, 695, 1749, 2195, 889, 6028, 7285, 1364, 378, 5121, 2028, 3352, 1195, 6698, 1147, 7719, 7379, 6228, 4782, 5381, 5360, 2740, 5915, 2044, 4051, 5969, 1305, 4845, 7803, 2533, 2855, 3160, 8575, 1686, 5903, 247, 7382, 5082, 3314, 4231, 4093, 8320, 6707, 2891, 6470, 635, 4079, 1266, 5409, 4049, 1370, 6771, 6084, 7685, 1209, 3385, 3334, 3643, 1106, 7166, 3624, 6310, 1373, 3276, 8616, 476, 2847, 324, 4565, 7606, 1936, 8159, 5946, 3634, 2440, 285, 85, 7574, 1447, 6523, 898, 1352, 7636, 398, 8307, 5227, 6889, 1141, 1662, 6403, 8532, 3104, 6109, 2054, 3205, 7891, 8622, 8105, 4963, 1719, 2026, 5997, 2573, 829, 1495, 570, 377, 5482, 6854, 520, 390, 5221, 4125, 538, 3106, 1639, 5333, 2143, 5295, 5431, 7445, 7652, 4554, 8118, 6215, 3975, 970, 3326, 1971, 4259, 2324, 1803, 6624, 2568, 8434, 6388, 1468, 6721, 4870, 1329, 4202, 6334, 2851, 2292, 5050, 4038, 7311, 1657, 4157, 8162, 2023, 7133, 6027, 8531, 2816, 704, 5257, 236, 1914, 4398, 1644, 999, 574, 8793, 727, 3899, 7346, 4578, 613, 2203, 6130, 7103, 306, 4371, 8774, 2170, 1027, 1740, 958, 1388, 6765, 869, 6101, 8342, 222, 318, 1933, 178, 126, 7878, 1547, 5182, 7096, 2538, 195, 4439, 5697, 1647, 8914, 1717, 142, 3781, 337, 5952, 816, 4031, 3625, 6092, 2388, 66, 4670, 452, 3878, 7283, 3598, 3067, 5081, 160, 3532, 5509, 3207, 3670, 1596, 29, 618, 349, 7854, 2597, 1550, 7792, 685, 2954, 2267, 2206, 7171, 3219, 6921, 6069, 844, 8824, 5940, 4410, 1214, 6584, 1881, 2258, 2043, 7030, 5018, 8014, 2456, 7568, 1475, 1277, 6774, 839, 5237, 7316, 6475, 6827, 211, 250, 8233, 8554, 7747, 2709, 3837, 257, 2322, 1748, 3262, 1977, 3537, 1220, 612, 4356, 2336, 4776, 1457, 231, 1283, 2588, 492, 767, 2058, 1545, 435, 6635, 6227, 2259, 5430, 7601, 3354, 762, 6890, 2025, 8825, 1034, 1465, 1500, 1569, 4182, 417, 2, 2485, 566, 4880, 4315, 2473, 8149, 3728, 3403, 1318, 7334, 1739, 1198, 5861, 6750, 7970, 2224, 5402, 6730, 2865, 986, 7392, 7137, 697, 4834, 506, 6382, 6936, 1913, 1841, 6514, 1734, 3142, 7884, 5691, 3780, 8609, 2042, 4990, 6543, 6519, 4397, 4700, 4718, 2694, 3182, 4713, 7536, 7935, 5389, 7846, 8887, 5067, 2949, 7126, 8249, 5179, 4724, 3578, 5410, 996, 514, 8017, 871, 3446, 5650, 2048, 5370, 4936, 6070, 1169, 7760, 158, 2617, 4335, 661, 3552, 2487, 5302, 246, 245, 6680, 2755, 2393, 573, 2776, 8623, 1864, 76, 93, 7894, 2339, 1397, 6965, 8053, 5756, 2984, 4390, 7237, 77, 4600, 6196, 4570, 7818, 3347, 5510, 4155, 8218, 28, 7578, 2602, 445, 3535, 2662, 7480, 290, 4221, 1559, 801, 770, 1685, 6865, 579, 33, 8152, 3278, 309, 6415, 2554, 2684, 589, 1975, 1180, 948, 937, 1028, 1201, 4347, 6899, 330, 8868, 2377, 6372, 269, 2687, 4896, 3836, 1675, 5366, 6017, 145, 4829, 4132, 8665, 5125, 3543, 2852, 1134, 110, 8018, 3244, 5538, 3447, 6542, 7242, 2451, 507, 6327, 1642, 22, 6875, 3570, 2580, 1629, 2783, 6447, 3820, 4624, 7917, 3928, 2789, 8410, 109, 982, 8919, 1231, 1104, 1961, 6935, 6598, 7220, 1813, 6868, 2230, 7182, 4750, 3932, 2376, 3850, 7584, 432, 1535, 5836, 3657, 2988, 2482, 6858, 7488, 7426, 3364, 1417, 5534, 3151, 8348, 601, 6245, 1561, 2668, 565, 8686, 1284, 457, 6630, 91, 8754, 8099, 5162, 4456, 1303, 1637, 1818, 511, 1191, 669, 3500, 1452, 1778, 926, 7443, 5142, 114, 397, 3462, 4211, 5766, 3424, 726, 2232, 1436, 2180, 7473, 3218, 8516, 3074, 671, 151, 155, 2266, 5344, 4548, 3743, 643, 6083, 7819, 4223, 7793, 1280, 624, 6143, 6435, 7501, 84, 4383, 2411, 1160, 5094, 3059, 3476, 6346, 454, 4584, 735, 5557, 1161, 2642, 2566, 648, 7738, 1067, 2979, 3872, 5176, 8325, 383, 6478, 8443, 3909, 8124, 8412, 586, 1117, 3379, 474, 3253, 6820, 4392, 1269, 2939, 2265, 4225, 3505, 6292, 5642, 2098, 2808, 4553, 5183, 2909, 7581, 2131, 1223, 5493, 6476, 2726, 1008, 8636, 698, 7861, 1407, 1757, 3641, 1752, 6115, 8801, 1671, 1033, 2412, 7813, 25, 820, 4432, 5134, 1082, 1116, 1848, 2149, 1418, 1100, 4045, 7632, 8476, 8378, 4962, 1079, 314, 6656, 1597, 4344, 1865, 2392, 2046, 2091, 6834, 138, 4292, 3690, 827, 7298, 234, 2402, 1591, 1852, 4018, 3747, 5606, 182, 2003, 317, 1967, 1409, 503, 634, 1783, 4869, 8725, 865, 1863, 2938, 3320, 7518, 4923, 2459, 7173, 6937, 2514, 6638, 153, 4968, 57, 38, 714, 8250, 1271, 2530, 264, 1004, 296, 6583, 5511, 3034, 8405, 2200, 6960, 7660, 4102, 2191, 3708, 44, 6398, 3239, 751, 5197, 3430, 6641, 5590, 789, 1546, 1317, 4030, 4984, 420, 4258, 1797, 4289, 279, 5232, 6718, 5962, 223, 4077, 5345, 325, 5938, 1212, 5801, 55, 6257, 396, 13, 58, 2272, 5943, 5978, 6989, 1096, 4, 3609, 2229, 2233, 90, 6157, 5960, 7980, 1779, 3610, 8087, 380, 3816, 5783, 376, 2219, 1367, 1085, 1113, 1632, 8013, 4715, 3682, 747, 412, 8079, 4635, 229, 6615, 3200, 3839, 2015, 62, 4167, 4757, 8300, 4305, 6749, 1857, 1250, 197, 2296, 528, 7820, 154, 499, 68, 877, 4486, 4632, 572, 489, 6323, 1518, 5454, 1981, 5562, 1624, 7648, 4998, 7551, 278, 217, 287, 6477, 3493, 1712, 6262, 6099, 2961, 7410, 3514, 424, 5271, 6623, 6997, 6413, 866, 1930, 7355, 490, 6453, 6340, 8927, 1738, 1241, 10, 557, 1754, 288, 576, 8064, 360, 164, 8416, 1696, 6063, 2198, 5537, 7888, 113, 7843, 475, 1491, 5004, 443, 3345, 3007, 5, 4543, 220, 4711, 1146, 4145, 11, 4755, 5019, 840, 2887, 19, 8046, 3566, 3298, 3087, 5558, 2442, 8332, 3607, 53, 3440, 3228, 3947, 6312, 8164, 7520, 3466, 4343, 3089, 6518, 1428, 686, 2416, 560, 4648, 5788, 7189, 1336, 769, 1560, 1688, 2599, 4955, 781, 8419, 71, 5872, 150, 2138, 3782, 8745, 7190, 1275, 5769, 9, 2764, 1403, 1952, 50, 3978, 662, 4669, 1601, 1667, 3896, 4205, 2347, 650, 7347, 5550, 5233, 3457, 2034, 8403, 3977, 2321, 1174, 547, 4334, 54, 5690, 1467, 1811, 2820, 879, 7598, 4709, 1328, 8374, 3662, 7988, 6230, 2443, 1393, 1030, 3941, 2111, 603, 6055, 2304, 1590, 731, 2537, 6999, 8239, 7326, 6665, 2147, 2470, 752, 3061, 108, 18, 2468, 1795, 5719, 320, 1672, 5818, 3576, 7101, 2869, 4466, 3572, 5907, 1408, 4307, 3174, 1424, 2993, 2070, 5714, 8513, 1600, 3638, 6746, 3554, 7676, 3594, 5141, 3774, 98, 8764, 4687, 3269, 5421, 5595, 2563, 2394, 6207, 5644, 4280, 3898, 4746, 2205, 5948, 3460, 8885, 6546, 447, 6482, 7535, 171, 3596, 5429, 3194, 6185, 188, 4733, 359, 6016, 5979, 30, 3761, 1068, 4028, 379, 267, 1238, 960, 61, 1037, 2040, 4982, 5403, 7800, 16, 4474, 75, 5524, 4770, 842, 4659, 3201, 4872, 473, 5998, 8478, 2403, 805, 7692, 5975, 4461, 7174, 1084, 6015, 740, 6613, 4019, 4500, 6816, 1172, 69, 7269, 2814, 1070, 48, 6, 656, 3824, 5705, 1922, 12, 3025, 684, 6597, 1776, 715, 2946, 663, 1575, 5031, 6654, 749, 6118, 4121, 6154, 375, 501, 3047, 6166, 737, 491, 3309, 2663, 8763, 2157, 5308, 7134, 6252, 3696, 1166, 6208, 6484, 2171, 1327, 5884, 4394, 6314, 46, 152, 20, 2628, 147, 8275, 8490, 6073, 8274, 5627, 912, 7203, 2615, 8327, 1368, 5458, 4708, 72, 5574, 0, 3944, 356, 2809, 8735, 8501, 3691, 3757, 5265, 5281, 4977, 2302, 8500, 7924, 3021, 6231, 3540, 7771, 2300, 556, 3336, 5607, 2011, 798, 6246, 7553, 1594, 1278, 3614, 3667, 1833, 1395, 5981, 872, 1323, 5062, 524, 2825, 45, 5555, 2226, 2747, 3014, 862, 4818, 4609, 32, 6955, 2728, 342, 4110, 2032, 3704, 347, 7834, 6932, 4465, 6840, 954, 3414, 1335, 116, 1548, 8369, 6441, 4103, 3778, 1902, 4610, 764, 4946, 1578, 3234, 235, 5780, 617, 3900, 2718, 5084, 2108, 2079, 5469, 651, 2731, 5560, 3705, 7653, 8285, 2252, 440, 4913, 7089, 1627, 5334, 3168, 1431, 6142, 4741, 722, 129, 2328, 3891, 8141, 1236, 6878, 1289, 2730, 5073, 3492, 455, 1507, 8161, 7900, 6681, 7240, 6394, 4316, 5951, 8071, 5930, 5418, 4672, 5847, 623, 3, 8603, 861, 4940, 549, 21, 419, 7466, 3426, 706, 518, 212, 6135, 6106, 6898, 1876, 615, 619, 326, 4005, 35, 8734, 1254, 6592, 837, 7959, 772, 5115, 7295, 7128, 7968, 2786, 3156, 2635, 2819, 371, 2097, 4375, 8277, 7903, 179, 8318, 3046, 581, 366, 5244, 818, 134, 5561, 7157, 784, 8010, 6438, 951, 5965, 3833, 146, 3363, 3707, 3694, 1047, 5087, 6524, 3631, 1769, 2086, 3147, 37, 1251, 705, 4898, 8069, 1140, 5065, 1523, 1534, 7526, 5576, 5830, 5189, 2541, 8489, 2590, 5743, 8779, 5263, 4519, 8012, 8365, 3908, 6051, 1513, 5514, 1287, 4226, 7655, 2608, 1281, 73, 5842, 8266, 3914, 1025, 2217, 6611, 1051, 2441, 6365, 4987, 7291, 7913, 3035, 5425, 1623, 2701, 6988, 773, 1402, 2734, 488, 228, 8381, 593, 7193, 117, 232, 1825, 2117, 6801, 3745, 1991, 1722, 3054, 460, 1211, 4418, 6557, 2997, 609, 4991, 6163, 7183, 2885, 7984, 6928, 2872, 7102, 6773, 6490, 3166, 3271, 3577, 281, 7342, 8203, 3436, 3260, 1446, 8742, 3604, 2213, 7422, 7, 4590, 3925, 2526, 3222, 1063, 730, 1958, 1690, 2940, 2083, 4321, 3311, 3992, 2370, 883, 5745, 8549, 2373, 5175, 2854, 4457, 8100, 4405, 2067, 3846, 5080, 2592, 4833, 1809, 6574, 248, 6419, 2681, 3171, 1013, 5790, 6081, 859, 407, 4191, 3920, 8042, 2329, 7739, 6672, 7668, 2360, 5628, 5673, 4329, 408, 4173, 4261, 5495, 1940, 7597, 2018, 3857, 128, 167, 3984, 5273, 2480, 2471, 7197, 7567, 8359, 1724, 1900, 8054, 5355, 1478, 5802, 260, 3300, 5440, 1635, 5508, 830, 8390, 2848, 1519, 6882, 4839, 2071, 4814, 4931, 8654, 1636, 166, 8059, 3242, 7981, 4766, 2211, 7047, 1423, 56, 7610, 688, 2745, 983, 6786, 654, 8357, 1065, 3534, 754, 2277, 1589, 1505, 7826, 2652, 7400, 4655, 2081, 667, 2269, 2062, 3829, 273, 6187, 5398, 7043, 7637, 3501, 7017, 7977, 5645, 5805, 3080, 2838, 2712, 351, 1676, 4442, 2535, 481, 7274, 1157, 6256, 6797, 5404, 1536, 5051, 2665, 5512, 6507, 6828, 1361, 304, 6872, 362, 716, 1515, 1075, 2059, 8496, 3633, 7552, 4366, 929, 2036, 3879, 8627, 4588, 5274, 4170, 5377, 2103, 796, 410, 1387, 7654, 2716, 7263, 2528, 1038, 1304, 8463, 5036, 5685, 927, 8355, 4749, 7475, 1658, 4061, 1292, 174, 39, 8880, 2221, 1919, 8787, 4487, 666, 6938, 365, 2163, 1563, 2197, 7461, 2476, 353, 664, 1766, 1694, 4424, 1615, 428, 1460, 1365, 4695, 381, 5072, 1641, 3959, 4537, 8822, 7722, 500, 2921, 7276, 8555, 4115, 3432, 3658, 1910, 1059, 137, 3423, 439, 2375, 259, 814, 3852, 2906, 2773, 1744, 4024, 2972, 1123, 6695, 1158, 2630, 3154, 4751, 8756, 276, 7532, 8674, 1625, 4464, 3680, 3960, 7497, 7151, 6785, 8135, 640, 2173, 6328, 7012, 2364, 1053, 5368, 6632, 4847, 2899, 6258, 8727, 2902, 8179, 70, 3307, 240, 3974, 7753, 3176, 600, 4450, 8786, 3119, 283, 1441, 170, 4073, 1984, 6891, 5314, 3967, 3569, 6434, 598, 2384, 6189, 5609, 24, 2248, 8291, 6318, 7062, 5373, 1136, 1111, 4124, 8174, 4380, 3310, 1233, 4351, 779, 3651, 588, 2126, 7663, 1562, 8834, 401, 2863, 3445, 3442, 2512, 7332, 3772, 210, 1773, 1178, 2702, 8312, 6515, 8536, 6021, 4012, 4237, 3339, 2285, 7614, 1843, 578, 5128, 4435, 3256, 186, 5290, 1660, 1707, 4825, 4243, 2417, 6183, 7044, 526, 629, 4090, 8711, 2110, 316, 7554, 275, 2187, 6370, 1794, 1016, 8701, 3069, 3613, 8788, 1286, 6037, 5202, 4891, 2113, 6655, 8142, 4501, 5325, 2146, 7066, 218, 903, 95, 5307, 1812, 2593, 1279, 7323, 7344, 2957, 4393, 2548, 887, 7178, 5032, 8051, 1529, 7700, 6194, 4892, 4621, 6987, 8472, 3883, 2518, 112, 642, 2746, 1112, 2142, 3105, 4286, 6993, 4871, 8176, 415, 8085, 766, 8542, 5586, 6566, 7353, 1055, 2467, 1301, 8738, 6369, 972, 577, 1530, 4389, 2342, 5980, 1628, 4025, 190, 2750, 5017, 5740, 2066, 6011, 5604, 3885, 3209, 1508, 3935, 3640, 5293, 6924, 6595, 6940, 788, 148, 5573, 2893, 5130, 2064, 867, 3024, 1716, 184, 1049, 3877, 914, 5563, 5315, 6850, 165, 2366, 7764, 7246, 294, 1290, 1345, 322, 7280, 205, 3265, 6700, 8160, 141, 4098, 2006, 6035, 4503, 3990, 5331, 1425, 2781, 2655, 2659, 6007, 5792, 8879, 712, 2908, 3412, 5329, 4469, 1466, 1896, 5864, 6867, 4769, 1948, 6064, 7514, 5877, 298, 7761, 1542, 262, 6508, 7737, 8641, 5601, 761, 3868, 6348, 4801, 2212, 1681, 8033, 1382, 258, 5759, 1396, 3094, 2529, 5400, 5108, 8028, 1698, 427, 997, 1553, 4215, 2261, 4359, 2574, 5184, 4197, 7989, 8190, 3962, 1429, 6796, 4485, 4685, 4591, 864, 2950, 4972, 2105, 2099, 5027, 5258, 1498, 3474, 2640, 1046, 1164, 1257, 5721, 6538, 7364, 2279, 1139, 4160, 4361, 7415, 350, 6617, 4481, 7099, 8001, 6116, 6556, 3115, 2571, 3637, 3384, 7146, 4407, 4651, 2942, 4671, 6902, 683, 6090, 5148, 679, 5213, 4843, 104, 6863, 3042, 1391, 1703, 975, 8166, 3296, 6174, 2430, 3351, 1005, 47, 2707, 321, 4425, 173, 668, 2616, 7460, 7084, 3448, 7177, 1697, 194, 168, 3771, 1135, 7164, 6433, 5408, 358, 82, 1296, 4692, 2317, 6726, 4531, 4298, 957, 8097, 333, 2724, 2757, 8430, 3889, 633, 101, 4551, 846, 7083, 4472, 2434, 1225, 6406, 7472, 4413, 4637, 1800, 6715, 1420, 3991, 1347, 6356, 6400, 5449, 932, 4063, 2504, 6305, 6943, 2802, 6420, 2644, 7390, 1412, 942, 328, 563, 4229, 2621, 6300, 1282, 5277, 4272, 4650, 1626, 6229, 6761, 1246, 1786, 5716, 2454, 7557, 6471, 1620, 2539, 1274, 4069, 6432, 4363, 7801, 3108, 2158, 4560, 7810, 2215, 2154, 946, 6345, 1760, 7015, 2082, 5139, 79, 2450, 6573, 3686, 4979, 2853, 4492, 7684, 1219, 3255, 293, 3041, 74, 5317, 2160, 2161, 8517, 1728, 2772, 1097, 208, 7432, 3161, 1934, 5034, 968, 207, 3383, 2210, 120, 1459, 5988, 8109, 1288, 551, 1299, 1965, 7333, 193, 15, 7376, 5820, 596, 2389, 4915, 8361, 2368, 4014, 920, 5613, 1410, 7314, 2708, 2918, 7148, 6494, 1309, 3093, 4339, 2475, 1718, 8000, 4493, 4348, 2601, 2208, 4135, 81, 2553, 4644, 1374, 3693, 895, 4044, 3632, 3029, 5758, 3110, 4857, 3112, 5656, 733, 7756, 523, 5668, 162, 3958, 8632, 4313, 976, 1009, 2356, 5968, 5131, 6349, 3140, 99, 2119, 4183, 7380, 2008, 541, 5873, 8767, 6990, 1836, 652, 2749, 5133, 3787, 1606, 1607, 3599, 3190, 5207, 140, 4592, 6383, 421, 3204, 448, 962, 4367, 2519, 1670, 4434, 2165, 6079, 5939, 3398, 4252, 4549, 4753, 5200, 7081, 6829, 6191, 5993, 5506, 1920, 8045, 2150, 5451, 8687, 7074, 3809, 1043, 5831, 2806, 3356, 497, 1322, 8214, 5150, 991, 4738, 5737, 1622, 27, 4707, 6235, 5090, 1349, 732, 2823, 6897, 5808, 5798, 4026, 5045, 1924, 1255, 230, 4096, 1099, 3674, 4330, 7986, 8505, 5060, 7275, 1883, 261, 3521, 6973, 3026, 1378, 4719, 7348, 5468, 2741, 5819, 1248, 3844, 6959, 8806, 6986, 3152, 8278, 6113, 5985, 2346, 2699, 302, 4604, 3335, 4924, 8679, 3107, 2085, 2657, 7013, 2703, 6602, 1188, 8209, 2688, 2527, 4122, 1943, 6040, 7649, 7250, 2520, 4475, 1109, 3109, 7462, 8021, 1481, 183, 793, 2672, 2199, 4508, 1847, 5935, 6545, 6176, 6440, 3875, 1777, 6731, 734, 8671, 913, 2767, 2978, 6480, 3718, 2579, 5845, 5101, 63, 3933, 2578, 4938, 7985, 5984, 6530, 31, 3982, 806, 4345, 4678, 2860, 3388, 4720, 441, 1527, 5720, 67, 6541, 1294, 4756, 6068, 6855, 7969, 5478, 3821, 1522, 8213, 7899, 3083, 8256, 2738, 3003, 4533, 4156, 6950, 787, 7617, 6669, 819, 2089, 5420, 5226, 7434, 6343, 5681, 4441, 5702, 7848, 422, 6994, 7421, 1017, 2379, 2242, 909, 6934, 2758, 3259, 5554, 2619, 6019, 510, 458, 2562, 8746, 1087, 6242, 7725, 1831, 6957, 8807, 2156, 2804, 2928, 7427, 4911, 3869, 4011, 7675, 673, 2490, 3349, 6053, 3924, 4082, 1036, 1006, 6000, 7979, 5322, 1605, 319, 3756, 2695, 5662, 2004, 8047, 8148, 1537, 3405, 3071, 6849, 3184, 7508, 1784, 8565, 4821, 4736, 6217, 453, 4244, 1340, 543, 282, 87, 8404, 8664, 1253, 1582, 2178, 323, 1674, 1489, 3645, 6180, 3943, 8929, 6344, 8557, 5393, 3565, 620, 2102, 6504, 8855, 6978, 522, 5049, 6396, 2625, 8837, 6740, 8730, 5708, 8039, 1763, 6568, 539, 4174, 7934, 973, 2610, 4702, 1102, 7394, 6581, 7571, 242, 4966, 1406, 2115, 2148, 115, 2556, 1094, 1103, 509, 2078, 4737, 6108, 3892, 7727, 2945, 1870, 3013, 7860, 7040, 1979, 480, 852, 6220, 7879, 4056, 5778, 4542, 809, 2309, 3739, 8296, 3717, 5025, 7621, 5931, 5736, 3656, 1650, 6285, 854, 6097, 5356, 6516, 794, 4960, 621, 2396, 2340, 118, 2919, 3563, 4248, 2886, 3001, 42, 2929, 7640, 3910, 8221, 6686, 251, 4198, 3495, 4106, 644, 3905, 7052, 3131, 2555, 4141, 1150, 5987, 5592, 2974, 5310, 8503, 2283, 625, 4868, 8169, 6885, 5791, 5337, 5350, 65, 3988, 2009, 555, 6500, 6582, 1339, 7992, 6261, 4523, 8271, 3329, 2910, 2050, 1375, 6005, 980, 6299, 4109, 8815, 3751, 5897, 1649, 8, 3371, 8782, 2751, 2859, 8668, 943, 1689, 8309, 2435, 7312, 585, 1127, 8718, 2505, 8604, 6833, 5210, 4220, 4494, 4521, 955, 2188, 5675, 7244, 429, 7524, 1640, 2733, 292, 6895, 2739, 1603, 7207, 425, 7328, 7048, 3698, 7281, 1448, 2069, 8262, 4193, 1514, 1260, 7192, 3895, 3671, 7575, 5564, 6701, 2666, 1585, 2850, 1218, 7592, 8165, 7406, 5330, 106, 6970, 4848, 8705, 8460, 5190, 5629, 2883, 4260, 2276, 3591, 7580, 1484, 785, 791, 7708, 4614, 7366, 274, 2927, 6200, 5037, 2312, 5641, 7976, 7310, 4108, 941, 3979, 3520, 3866, 7169, 8715, 4406, 7576, 725, 3617, 8454, 5501, 5707, 886, 692, 6725, 2549, 5611, 6606, 2437, 6134, 4783, 1726, 1906, 1801, 1342, 8585, 3789, 843, 8329, 1541, 5156, 36, 297, 3359, 5299, 295, 4568, 6857, 7490, 5920, 7241, 1580, 5686, 1932, 1442, 6512, 2752, 5149, 1167, 3378, 123, 6322, 5797, 8143, 2057, 4194, 559, 5804, 4177, 1399, 6459, 2920, 6903, 6510, 7425, 4415, 6874, 4015, 1239, 8525, 8283, 3582, 2087, 5904, 7223, 552, 4734, 614, 5291, 2892, 7085, 8634, 4676, 5146, 5584, 5692, 5503, 3248, 6600, 8477, 7890, 6966, 3616, 3711, 3052, 3299, 338, 6996, 7876, 8566, 7962, 992, 3238, 8421, 3793, 4257, 2564, 6009, 2584, 3987, 3934, 6919, 515, 5348, 8382, 777, 3557, 3281, 1867, 6145, 3481, 368, 3475, 4686, 7600, 817, 3913, 6951, 1377, 4089, 7321, 3313, 3297, 3275, 5000, 5264, 2595, 4752, 4633, 4116, 4950, 4723, 1137, 4802, 1976, 4217, 1356, 7098, 2826, 1742, 1458, 1815, 6949, 6272, 8601, 6800, 3864, 6013, 519, 7842, 2761, 5655, 2743, 6565, 7407, 527, 3659, 2966, 3486, 1390, 504, 5889, 8082, 5865, 571, 4679, 2330, 8228, 2651, 3555, 5120, 1799, 6061, 5453, 7447, 1731, 6302, 131, 7249, 4003, 8778, 3586, 3509, 4844, 1404, 4480, 5932, 5659, 2153, 7116, 5698, 3858, 3121, 3742, 3754, 1061, 3101, 1071, 5359, 6599, 5709, 5775, 1556, 3224, 2603, 1695, 4958, 3929, 6871, 2873, 5633, 4129, 1252, 3503, 1951, 2658, 7832, 4181, 139, 971, 5928, 1720, 8363, 3736, 459, 3664, 5741, 3737, 1430, 7625, 3985, 8276, 3050, 5841, 6186, 6089, 2515, 1889, 5137, 2670, 6772, 863, 1692, 8678, 5876, 657, 2022, 4858, 4357, 3376, 3544, 4360, 329, 122, 1203, 7538, 4411, 3972, 682, 4547, 7104, 5464, 5181, 2141, 4429, 7572, 5349, 4559, 7645, 2457, 3225, 824, 3303, 1435, 5689, 1369, 7641, 7107, 6972, 1592, 1001, 308, 4830, 2987, 2445, 393, 7853, 7420, 4922, 3600, 6361, 4190, 3673, 568, 3927, 8810, 4180, 1713, 7129, 5406, 5921, 783, 7418, 3143, 584, 2262, 2461, 1355, 472, 1476, 4941, 3689, 263, 4111, 3851, 3863, 4228, 5352, 899, 3008, 1693, 4168, 3801, 1850, 2594, 6760, 750, 157, 3387, 2466, 4945, 6712, 8344, 2765, 675, 782, 6735, 2721, 1007, 7004, 1905, 6609, 1270, 4075, 4634, 1907, 2955, 8448, 8558, 4526, 8540, 7561, 1828, 2419, 1398, 3159, 3340, 3508, 1727, 3164, 7156, 616, 8178, 1619, 3703, 6379, 5099, 7299, 5723, 7214, 4510, 5618, 4836, 4236, 1700, 6684, 1124, 1379, 3915, 5597, 3202, 7940, 1806, 357, 2220, 6286, 3372, 1588, 2620, 2669, 4815, 1227, 5476, 1205, 8736, 628, 238, 4314, 7788, 5518, 8052, 6768, 5580, 3867, 3196, 5152, 5187, 6649, 1998, 746, 2845, 3066, 6612, 2714, 6685, 7918, 2029, 3491, 7733, 6036, 3853, 8377, 5567, 653, 1963, 1202, 2123, 6307, 4117, 5546, 1450, 6047, 3291, 4558, 2190, 1414, 7898, 5696, 5826, 5422, 6513, 5635, 4730, 5699, 1076, 5896, 8175, 2202, 5022, 299, 94, 8444, 5253, 5452, 2815, 6503, 1217, 3216, 3086, 1197, 4384, 7758, 4471, 944, 6058, 3438, 5523, 4612, 2332, 5883, 4399, 2614, 7745, 8704, 3818, 5484, 3179, 3939, 8183, 5924, 2769, 1325, 3796, 5245, 5016, 597, 4762, 7069, 8050, 6353, 3055, 6087, 8151, 8080, 6531, 8437, 315, 627, 2256, 8199, 4230, 1945, 5332, 2676, 2970, 7115, 7974, 5462, 6525, 1816, 4996, 4988, 7545, 4453, 6961, 7154, 802, 5218, 252, 521, 5011, 1791, 5734, 4092, 144, 645, 610, 4436, 5568, 8700, 1511, 7424, 8820, 5192, 1856, 7994, 5625, 1879, 1186, 1392, 2705, 23, 6862, 1891, 3791, 2264, 1114, 3118, 7266, 1057, 2897, 2481, 1185, 3418, 3302, 2999, 3006, 3953, 1855, 7233, 1747, 1904, 6805, 4712, 3331, 2287, 3507, 3477, 8527, 201, 3954, 7305, 3124, 8236, 4213, 3814, 2327, 6213, 244, 7657, 1493, 3533, 5862, 5894, 2685, 3994, 5522, 3856, 5371, 4595, 7302, 4468, 7150, 3180, 3981, 7808, 6094, 7773, 3775, 6724, 4704, 7757, 739, 2575, 3517, 3063, 2294, 1723, 133, 687, 4081, 1176, 8628, 5834, 5342, 8227, 6077, 4071, 2128, 403, 4187, 5530, 6386, 2811, 7413, 3887, 3324, 7687, 2698, 2874, 2007, 4948, 4800, 906, 3871, 3729, 7993, 1969, 8058, 4691, 5809, 2127, 5255, 7243, 647, 6167, 3279, 7039, 469, 1868, 4754, 4985, 2391, 1807, 891, 181, 1190, 8406, 6859, 5505, 4903, 535, 4981, 5007, 3117, 7529, 8310, 1616, 1432, 461, 5260, 710, 7936, 8508, 4763, 8816, 1916, 2763, 8792, 5052, 5318, 1709, 6445, 8409, 7925, 1729, 7965, 6852, 4947, 5622, 7840, 3285, 6831, 6762, 3776, 4119, 4008, 6375, 1684, 2429, 4744, 8267, 4039, 3498, 5492, 6065, 7611, 7565, 2813, 3626, 5684, 8672, 3437, 1567, 6301, 202, 3023, 8192, 7864, 7446, 641, 2881, 5145, 993, 7507, 5069, 4657, 8368, 4379, 580, 185, 3488, 8336, 6265, 8252, 5880, 6192, 5272, 6038, 3294, 5887, 8350, 7411, 1042, 2134, 3518, 1608, 3835, 1230, 1974, 3068, 6776, 2088, 1595, 7209, 4419, 3805, 1921, 7335, 8564, 994, 990, 8399, 385, 6739, 1574, 4295, 5899, 5196, 4496, 7607, 237, 4574, 4352, 7161, 2983, 5365, 8041, 5803, 3431, 5164, 3463, 2174, 5781, 2338, 5994, 135, 6088, 4263, 6559, 2381, 768, 2477, 1972, 1073, 7313, 8649, 4306, 5313, 2448, 1058, 2523, 3036, 4856, 8724, 3827, 83, 213, 6555, 7492, 3558, 5811, 6485, 3700, 5879, 4622, 4149, 7465, 3428, 3799, 3916, 1683, 1194, 6931, 7435, 3573, 5220, 1503, 1978, 5617, 7286, 1451, 4029, 4577, 1666, 3136, 1872, 5423, 7558, 2516, 6465, 5755, 934, 7941, 5306, 7483, 8635, 4000, 386, 1048, 7945, 4773, 5768, 4597, 5623, 5917, 477, 896, 6184, 5488, 1710, 5225, 3214, 7245, 6604, 4488, 8076, 8613, 1654, 5624, 4420, 3312, 4385, 3264, 606, 7060, 6450, 608, 4620, 1613, 7686, 7114, 719, 7699, 6713, 5848, 2369, 8699, 703, 1003, 4629, 4338, 7327, 5757, 2120, 8086, 7494, 7219, 4722, 5395, 4887, 6815, 1272, 7120, 6634, 2506, 8426, 3245, 3580, 478, 4572, 7257, 6728, 1583, 206, 2713, 3429, 6571, 4036, 7711, 2052, 2924, 4579, 2560, 3629, 5380, 5285, 815, 2611, 5438, 655, 7905, 4070, 486, 6826, 5001, 4890, 6270, 8769, 1854, 1598, 7370, 7541, 4112, 5480, 335, 7489, 8137, 5047, 4878, 3888, 3172, 5703, 7618, 7865, 5280, 2876, 6360, 2536, 4786, 6269, 352, 6124, 6002, 3229, 5250, 6804, 5664, 3763, 3427, 5024, 3051, 4822, 1249, 7519, 2582, 5241, 7468, 530, 8809, 3177, 388, 5976, 3133, 5866, 3654, 1350, 3964, 4696, 372, 3494, 7807, 5351, 4916, 6679, 7315, 6397, 8698, 2383, 5569, 8415, 5234, 1655, 6759, 3258, 6018, 965, 3744, 7811, 2406, 1859, 7080, 7430, 2060, 2729, 5026, 4232, 8892, 6694, 3976, 505, 1088, 6763, 6914, 8440, 8387, 5912, 5937, 868, 2524, 5282, 3386, 2583, 7999, 4717, 7855, 6449, 6339, 1663, 5417, 4573, 4726, 8719, 964, 6171, 989, 8074, 2926, 7372, 7127, 6671, 7020, 4863, 6668, 5776, 3567, 1964, 7021, 6201, 1579, 3415, 6012, 7833, 2971, 6622, 5230, 3173, 6779, 2985, 6983, 4673, 3894, 1973, 5385, 8859, 3949, 8063, 2990, 7892, 1437, 6896, 2956, 4192, 2301, 3490, 7746, 6148, 6644, 5727, 8450, 2822, 8770, 7414, 8526, 1765, 6030, 4388, 7350, 6673, 2861, 765, 3295, 1445, 5292, 812, 8373, 2422, 2647, 3113, 876, 6393, 5375, 5114, 1473, 4319, 2250, 1840, 1853, 3186, 7124, 4929, 4653, 1990, 5593, 4617, 849, 1105, 4951, 5634, 6813, 7469, 3321, 3057, 6564, 3328, 2488, 3732, 3188, 3831, 4585, 1366, 2626, 3803, 550, 2282, 8752, 1543, 6376, 4625, 3720, 7136, 7318, 1265, 6879, 2223, 3487, 8299, 5074, 3525, 7943, 2335, 2409, 6601, 5159, 4034, 5594, 7732, 3098, 6232, 760, 6995, 4652, 6412, 4004, 4894, 7132, 8645, 3784, 2323, 6509, 7716, 5854, 2155, 7396, 7163, 5871, 5825, 4437, 5533, 8156, 1316, 7296, 1887, 6488, 1064, 7877, 1664, 637, 2326, 3434, 8222, 7141, 7872, 6439, 4283, 3873, 5591, 7135, 3409, 1509, 1822, 1416, 8473, 4939, 86, 7910, 5742, 5235, 4247, 6720, 5626, 3459, 7496, 7596, 3077, 2425, 6381, 2076, 3921, 8521, 7065, 4293, 3374, 3806, 1873, 1878, 5119, 6522, 5061, 828, 1540, 3815, 6908, 3740, 1026, 880, 468, 5498, 7750, 271, 5491, 8530, 1156, 8436, 3483, 284, 4403, 2012, 4978, 4515, 4444, 3404, 5908, 822, 6968, 8397, 2051, 6626, 8172, 3716, 3175, 7208, 2280, 2830, 6688, 2508, 3995, 5058, 4967, 7319, 2228, 5855, 605, 743, 2238, 4781, 6150, 3128, 5767, 8281, 2273, 8469, 6589, 3158, 8225, 5023, 1646, 7770, 6757, 3237, 4179, 7626, 8618, 4370, 4445, 8134, 4041, 2879, 1929, 7267, 1131, 7543, 4817, 2135, 5651, 5104, 7922, 5922, 8091, 6104, 2683, 5548, 7194, 2374, 8020, 5228, 2068, 5028, 2550, 1756, 5639, 6952, 7499, 4006, 1224, 436, 2241, 340, 810, 7713, 7011, 7740, 7721, 5433, 2710, 6417, 718, 6129, 8251, 2351, 6161, 8857, 3843, 6795, 3480, 6869, 3999, 2805, 4912, 1957, 2024, 2307, 1128, 6294, 6789, 6195, 6848, 3733, 2271, 8708, 4278, 5616, 2243, 6662, 1687, 3523, 8522, 2935, 7734, 6052, 3012, 2777, 2890, 2216, 8093, 1434, 8351, 8353, 6547, 6282, 2700, 3095, 5143, 1549, 3605, 2998, 6535, 7437, 3777, 5138, 4020, 7817, 4084, 7766, 7929, 4364, 8375, 4995, 6992, 8694, 4037, 1860, 1295, 7836, 3252, 8739, 1054, 5760, 7921, 2596, 7539, 1331, 5729, 4666, 7696, 4795, 7222, 7373, 3056, 5990, 5161, 5057, 3316, 6560, 4164, 3730, 6975, 3922, 6404, 5782, 7297, 3318, 4631, 4883, 808, 6741, 4619, 8090, 7369, 8215, 6711, 2239, 3394, 8576, 6661, 738, 8294, 5765, 2428, 373, 1464, 2310, 6942, 6640, 7608, 6066, 6691, 124, 7933, 7502, 3381, 7560, 4134, 1092, 2760, 4725, 3393, 1426, 4462, 3575, 7144, 4933, 5851, 8284, 1060, 2650, 5992, 7647, 5401, 2116, 6682, 7767, 8158, 1960, 7201, 5552, 8468, 1226, 344, 7705, 5236, 8035, 1869, 60, 265, 1611, 7303, 5682, 963, 3817, 3930, 5744, 8799, 4921, 2305, 8210, 4855, 1762, 4743, 3948, 8762, 1949, 1926, 6244, 857, 8462, 7290, 3355, 5467, 4300, 5487, 7322, 1992, 4582, 6458, 4642, 5485, 8356, 4065, 7232, 1827, 7791, 4627, 7477, 3546, 7506, 5846, 7024, 7391, 2378, 7211, 2576, 7381, 1953, 959, 8173, 1108, 6705, 5147, 1119, 4779, 8180, 305, 3687, 658, 7357, 4804, 4605, 7642, 3072, 6147, 5096, 1330, 8584, 5860, 3084, 3274, 6421, 3402, 4797, 1928, 4277, 6004, 2289, 3529, 2175, 5116, 4303, 1324, 8111, 4440, 6324, 6607, 6330, 2348, 5658, 6836, 2870, 8891, 2936, 2952, 753, 7589, 4378, 2169, 8881, 5100, 564, 5901, 8835, 7485, 6193, 3661, 7307, 1648, 8733, 7701, 6495, 5079, 1768, 3792, 3125, 6569, 3280, 8586, 6050, 3130, 6627, 5465, 1861, 7749, 1659, 4349, 2367, 8514, 5525, 7579, 8712, 4387, 3444, 1656, 8187, 7218, 1892, 7885, 6492, 3081, 2871, 1433, 6506, 7814, 6131, 3847, 1469, 5929, 1895, 2598, 4433, 4658, 7683, 3560, 5849, 8259, 6022, 7776, 2344, 2587, 6948, 280, 694, 5178, 4140, 8805, 6455, 3064, 6462, 4128, 2288, 1319, 4866, 3419, 256, 6067, 7145, 5472, 6132, 7752, 8856, 1341, 3759, 7882, 7042, 4555, 6753, 6464, 1310, 277, 4812, 8154, 8598, 6211, 2129, 4796, 8716, 5151, 6254, 3618, 7484, 7706, 4745, 409, 4478, 8703, 3369, 7368, 4311, 1808, 7971, 6172, 5259, 890, 200, 7946, 4267, 3085, 7707, 5169, 1449, 2884, 6533, 5382, 4265, 1168, 1631, 7797, 7824, 3874, 7155, 7349, 4504, 2045, 5455, 6306, 2762, 3375, 2257, 2358, 4971, 1743, 8528, 4203, 6425, 5989, 6367, 8370, 3472, 6085, 1755, 2975, 8272, 961, 2263, 1609, 7728, 2693, 3880, 3583, 4561, 5012, 1832, 1142, 8083, 1584, 6056, 7955, 7365, 395, 7159, 8650, 6877, 2691, 8758, 4731, 7230, 3826, 1023, 2431, 5875, 6181, 5612, 3235, 3169, 3362, 5180, 3956, 7527, 7850, 2415, 681, 2720, 4427, 3653, 4430, 4233, 5112, 6467, 532, 8009, 2274, 2047, 6072, 3319, 8380, 728, 1970, 7901, 7227, 5324, 4297, 5364, 6579, 2649, 5600, 8921, 6175, 6733, 1780, 6045, 5746, 8519, 4930, 8427, 6247, 6491, 2821, 6368, 4381, 4693, 5619, 2222, 5581, 7991, 3478, 1844, 1517, 3750, 4596, 1010, 3504, 4078, 6219, 3822, 2868, 7106, 3755, 5140, 3768, 6351, 5829, 7100, 2727, 6551, 2469, 3449, 4860, 5064, 1968, 2645, 7849, 4482, 3522, 2643, 1830, 5654, 1746, 5441, 6964, 163, 5369, 4539, 748, 7300, 6563, 1362, 3647, 2889, 310, 8316, 8720, 6502, 8441, 2796, 1152, 6505, 5054, 6029, 3644, 3660, 1680, 8529, 4799, 8457, 8583, 2112, 7564, 4095, 4907, 925, 6835, 7932, 6706, 5747, 3465, 7830, 2423, 892, 6137, 8488, 7765, 1912, 1706, 7590, 8913, 8768, 1363, 8116, 7777, 8753, 6594, 4993, 7056, 8845, 5958, 3353, 6851, 2551, 5787, 4885, 6290, 4571, 2661, 5254, 3010, 1326, 3027, 3749, 4484, 7450, 7530, 4959, 2613, 1012, 4143, 6674, 5770, 5378, 6886, 7235, 7351, 1312, 6645, 382, 5437, 241, 8119, 8197, 3906, 6448, 4240, 7939, 1206, 5167, 6933, 6628, 2162, 6810, 1163, 5312, 3065, 5320, 8211, 4040, 2552, 6354, 4803, 2478, 6407, 2696, 8617, 1358, 6284, 8832, 4042, 6528, 5424, 8066, 2509, 4925, 4374, 8572, 3017, 1678, 6814, 4581, 2600, 2673, 1516, 2177, 6745, 8184, 7402, 8484, 4660, 5459, 348, 4489, 4296, 5840, 496, 7825, 1095, 1040, 7796, 2543, 8790, 2227, 5193, 2711, 4832, 6838, 7516, 8766, 7546, 5033, 5347, 6670, 6603, 8447, 950, 6233, 1078, 6338, 3187, 3358, 2074, 8127, 2790, 2013, 7650, 3484, 5858, 2917, 5412, 221, 8875, 7401, 8130, 8081, 434, 6593, 3606, 8366, 3513, 6748, 8873, 4214, 4589, 6676, 7412, 6317, 3683, 2788, 7667, 1985, 6696, 3684, 7937, 5206, 4358, 3719, 3966, 3893, 8360, 3341, 7451, 2236, 4813, 1041, 5559, 7804, 5103, 2878, 7627, 4882, 4212, 6409, 311, 1819, 8392, 8486, 5531, 7867, 5283, 4838, 1552, 3165, 7061, 1479, 355, 5898, 7847, 5035, 4454, 4767, 7644, 6100, 8205, 1, 8587, 4742, 6575, 3559, 5833, 5919, 6303, 8157, 8096, 7624, 5013, 7036, 7619, 6554, 3969, 4396, 6278, 7185, 2664, 8060, 4690, 7948, 8104, 7874, 6782, 508, 6717, 5275, 7863, 1759, 7785, 6511, 7086, 6847, 3099, 2463, 6648, 4391, 3937, 3079, 2641, 6844, 5540, 4618, 6293, 6499, 5076, 3417, 2033, 2061, 1845, 4458, 3890, 5857, 7763, 591, 8588, 5088, 2559, 4104, 4739, 6399, 6296, 7458, 384, 6900, 757, 4904, 5725, 1050, 533, 3902, 1894, 2639, 7082, 6887, 6114, 6946, 2569, 5713, 6380, 6276, 690, 466, 7559, 7781, 3701, 6416, 5231, 5800, 2932, 291, 7677, 4282, 4675, 3904, 7495, 7556, 8308, 4888, 7395, 1568, 6963, 6660, 1610, 4965, 7260, 4184, 2697, 3526, 1788, 4085, 3882, 5195, 5474, 2953, 2827, 6041, 8231, 1618, 4974, 3590, 8676, 3551, 7019, 8852, 6631, 7438, 6811, 5053, 1858, 4023, 8865, 4729, 6927, 693, 7330, 5669, 5343, 2125, 1935, 8128, 3627, 744, 2179, 7231, 4761, 6549, 2286, 4158, 3361, 7743, 2857, 7158, 680, 5701, 7110, 2168, 2986, 8067, 6463, 6775, 2880, 8904, 5091, 4438, 8191, 3370, 1987, 542, 4628, 2858, 3315, 4137, 8168, 3138, 1942, 1996, 4810, 2039, 5247, 4735, 7383, 6818, 3986, 8367, 3043, 6667, 5185, 5479, 1181, 6780, 5663, 7724, 7690, 2725, 2185, 6939, 7054, 6794, 6489, 156, 7393, 7003, 2609, 5816, 6743, 3536, 6663, 4046, 4245, 5268, 2951, 5215, 4400, 4727, 1539, 7253, 3760, 517, 1069, 8637, 7953, 5863, 5936, 3830, 1903, 4961, 2333, 430, 7964, 7662, 2095, 3197, 4402, 7852, 1699, 3305, 7112, 3126, 5442, 6536, 219, 2810, 2980, 5118, 4914, 1604, 7338, 4227, 6204, 4139, 7570, 799, 6385, 3189, 4208, 4683, 3715, 6866, 1691, 631, 8446, 5817, 6177, 2410, 7723, 5068, 907, 7816, 7325, 8282, 1577, 701, 6442, 7093, 3322, 5450, 5570, 336, 5157, 7923, 2503, 4918, 1165, 5267, 2581, 187, 7361, 3646, 5239, 2759, 8840, 3178, 3842, 7630, 2254, 3786, 2692, 6274, 6590, 416, 1074, 2832, 8839, 2943, 8639, 7091, 4010, 3713, 5456, 4999, 6918, 413, 5006, 4535, 1741, 7301, 7059, 7294, 7523, 8121, 7405, 6880, 5300, 6199, 4224, 6309, 5443, 6062, 1208, 4698, 2380, 5203, 1242, 7187, 6216, 6337, 5927, 4062, 5812, 2460, 2453, 5853, 2544, 5186, 6332, 7789, 4852, 3290, 6708, 7954, 5499, 3735, 5738, 5154, 4032, 3127, 2037, 1665, 7748, 3039, 3473, 3246, 6333, 6758, 5837, 6778, 5507, 2133, 6802, 3996, 6976, 979, 7661, 2334, 6288, 3031, 5374, 8456, 3471]\n",
            "Influential words in Positive Reviews:\n",
            "--------------------------------------\n",
            "chinatown\n",
            "mmmmmm\n",
            "nclean\n",
            "artsy\n",
            "eclectic\n",
            "pleasantly\n",
            "nexcellent\n",
            "awesomeness\n",
            "rito\n",
            "keeper\n",
            "nhighly\n",
            "crate\n",
            "nsuper\n",
            "tzatziki\n",
            "casually\n",
            "amazed\n",
            "obsession\n",
            "passionate\n",
            "magnificent\n",
            "mmmm\n",
            "====\n",
            "\n",
            "\n",
            "\n",
            "Influential words in Negative Reviews:\n",
            "--------------------------------------\n",
            "cancelled\n",
            "operator\n",
            "slowest\n",
            "subject\n",
            "burden\n",
            "unacceptable\n",
            "gossiping\n",
            "insulting\n",
            "receipts\n",
            "canceled\n",
            "unwelcoming\n",
            "horrendous\n",
            "proudly\n",
            "inexcusable\n",
            "urgency\n",
            "underneath\n",
            "actions\n",
            "scam\n",
            "blech\n",
            "inexperienced\n"
          ],
          "name": "stdout"
        }
      ]
    },
    {
      "cell_type": "markdown",
      "metadata": {
        "id": "7rjpXr-bth_q"
      },
      "source": [
        "# Summary\n",
        "\n",
        "## How the system works\n",
        "1. Encode the review sentence using one hot encoding\n",
        "and the result is vector contains 1's and 0's eg, [1 1 0 0 1]\n",
        "1. each index of the vector represent the position of word in vocabulary\n",
        "1. then the vector got feeded into the classifier.\n",
        "1. the classifier returns a value then mapped into 1 or 0.\n",
        "1. the mapped value represents the index of rating_vocabulary which are positive or negative."
      ]
    }
  ]
}