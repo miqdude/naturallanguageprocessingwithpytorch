{
 "cells": [
  {
   "cell_type": "code",
   "execution_count": 1,
   "metadata": {
    "id": "mNvVo7_2gYzd"
   },
   "outputs": [],
   "source": [
    "import torch"
   ]
  },
  {
   "cell_type": "markdown",
   "metadata": {
    "id": "aklxBTGOgYzv"
   },
   "source": [
    "# Creating Tensor"
   ]
  },
  {
   "cell_type": "code",
   "execution_count": 2,
   "metadata": {
    "colab": {
     "base_uri": "https://localhost:8080/",
     "height": 857
    },
    "id": "-FcOMPHrgYzx",
    "outputId": "61e371e8-e278-4d6e-fed4-55f309a3c160"
   },
   "outputs": [
    {
     "name": "stdout",
     "output_type": "stream",
     "text": [
      "Type: torch.FloatTensor\n",
      "Shape/size: torch.Size([2, 3])\n",
      "Values: \n",
      "tensor([[0., 0., 0.],\n",
      "        [0., 0., 0.]])\n",
      "Type: torch.FloatTensor\n",
      "Shape/size: torch.Size([2, 3])\n",
      "Values: \n",
      "tensor([[0.7881, 0.9644, 0.3926],\n",
      "        [0.9942, 0.4940, 0.1118]])\n",
      "Type: torch.FloatTensor\n",
      "Shape/size: torch.Size([2, 3])\n",
      "Values: \n",
      "tensor([[ 0.5601,  0.8279,  1.1155],\n",
      "        [-0.5231, -0.7402,  0.1025]])\n",
      "Type: torch.FloatTensor\n",
      "Shape/size: torch.Size([2, 3])\n",
      "Values: \n",
      "tensor([[0.8446, 0.8319, 0.9789],\n",
      "        [0.3468, 0.0131, 0.8573]])\n",
      "Type: torch.FloatTensor\n",
      "Shape/size: torch.Size([2, 3])\n",
      "Values: \n",
      "tensor([[3., 3., 3.],\n",
      "        [3., 3., 3.]])\n",
      "Type: torch.FloatTensor\n",
      "Shape/size: torch.Size([2, 3])\n",
      "Values: \n",
      "tensor([[1., 2., 3.],\n",
      "        [4., 5., 6.]])\n",
      "Type: torch.DoubleTensor\n",
      "Shape/size: torch.Size([2, 3])\n",
      "Values: \n",
      "tensor([[0.3110, 0.8406, 0.9588],\n",
      "        [0.0692, 0.6474, 0.0811]], dtype=torch.float64)\n",
      "Type: torch.FloatTensor\n",
      "Shape/size: torch.Size([3])\n",
      "Values: \n",
      "tensor([1., 2., 3.])\n",
      "Type: torch.LongTensor\n",
      "Shape/size: torch.Size([3])\n",
      "Values: \n",
      "tensor([1, 2, 3])\n",
      "Type: torch.LongTensor\n",
      "Shape/size: torch.Size([3])\n",
      "Values: \n",
      "tensor([1, 2, 3])\n"
     ]
    }
   ],
   "source": [
    "# helper function\n",
    "def describe(x):\n",
    "    print(\"Type: {}\".format(x.type()))\n",
    "    print(\"Shape/size: {}\".format(x.shape))\n",
    "    print(\"Values: \\n{}\".format(x))\n",
    "\n",
    "# create tensor of zeros\n",
    "describe(torch.zeros(2,3))\n",
    "\n",
    "# create tensor of random\n",
    "# in uniform distrubution\n",
    "describe(torch.rand(2,3))\n",
    "# in normal distribution\n",
    "describe(torch.randn(2,3))\n",
    "\n",
    "# tensor with defined values\n",
    "x = torch.rand(2,3)\n",
    "describe(x)\n",
    "# fill with 3 values\n",
    "x.fill_(3)\n",
    "describe(x)\n",
    "\n",
    "# tensor from list\n",
    "y = torch.Tensor([[1,2,3],\n",
    "                [4,5,6]])\n",
    "describe(y)\n",
    "\n",
    "# torch from numpy\n",
    "import numpy as np\n",
    "z = np.random.rand(2,3)\n",
    "describe(torch.from_numpy(z))\n",
    "\n",
    "# defining the data types\n",
    "a = torch.FloatTensor([1,2,3])\n",
    "describe(a)\n",
    "# convert data types\n",
    "a = a.long()\n",
    "describe(a)\n",
    "\n",
    "# from list with data type\n",
    "b = torch.tensor([1,2,3], dtype=torch.int64)\n",
    "describe(b)"
   ]
  },
  {
   "cell_type": "markdown",
   "metadata": {
    "id": "5dgULDbsgY0A"
   },
   "source": [
    "# Tensor Operations"
   ]
  },
  {
   "cell_type": "code",
   "execution_count": 3,
   "metadata": {
    "colab": {
     "base_uri": "https://localhost:8080/",
     "height": 178
    },
    "id": "r5CPXyrcgY0B",
    "outputId": "2d2e979e-f4c6-4557-eb39-13dd64893e9a"
   },
   "outputs": [
    {
     "name": "stdout",
     "output_type": "stream",
     "text": [
      "Type: torch.FloatTensor\n",
      "Shape/size: torch.Size([2, 3])\n",
      "Values: \n",
      "tensor([[4., 5., 6.],\n",
      "        [7., 8., 9.]])\n",
      "Type: torch.LongTensor\n",
      "Shape/size: torch.Size([3])\n",
      "Values: \n",
      "tensor([2, 4, 6])\n"
     ]
    }
   ],
   "source": [
    "# use arithmetic operators\n",
    "describe(x + y)\n",
    "# or use methods\n",
    "describe(torch.add(a , b))"
   ]
  },
  {
   "cell_type": "code",
   "execution_count": 4,
   "metadata": {
    "colab": {
     "base_uri": "https://localhost:8080/",
     "height": 178
    },
    "id": "gZJ_-9D6gY0K",
    "outputId": "44d9e97a-95a9-4006-d2a8-36dfacb906bb"
   },
   "outputs": [
    {
     "name": "stdout",
     "output_type": "stream",
     "text": [
      "Type: torch.LongTensor\n",
      "Shape/size: torch.Size([16])\n",
      "Values: \n",
      "tensor([ 0,  1,  2,  3,  4,  5,  6,  7,  8,  9, 10, 11, 12, 13, 14, 15])\n",
      "Type: torch.LongTensor\n",
      "Shape/size: torch.Size([2, 8])\n",
      "Values: \n",
      "tensor([[ 0,  1,  2,  3,  4,  5,  6,  7],\n",
      "        [ 8,  9, 10, 11, 12, 13, 14, 15]])\n"
     ]
    }
   ],
   "source": [
    "# represent tensor in other dimension\n",
    "x = torch.arange(16)\n",
    "describe(x)\n",
    "x = x.view(2,8)\n",
    "describe(x.view(2,8))"
   ]
  },
  {
   "cell_type": "code",
   "execution_count": 5,
   "metadata": {
    "colab": {
     "base_uri": "https://localhost:8080/",
     "height": 88
    },
    "id": "oAqqw8udgY0V",
    "outputId": "f61145bd-9938-4b75-8d97-285496c61022"
   },
   "outputs": [
    {
     "name": "stdout",
     "output_type": "stream",
     "text": [
      "Type: torch.LongTensor\n",
      "Shape/size: torch.Size([5])\n",
      "Values: \n",
      "tensor([ 8,  9, 10, 11, 12])\n"
     ]
    }
   ],
   "source": [
    "# slicing tensors\n",
    "describe(x[1, :5])"
   ]
  },
  {
   "cell_type": "code",
   "execution_count": 6,
   "metadata": {
    "colab": {
     "base_uri": "https://localhost:8080/",
     "height": 106
    },
    "id": "o7Bleu5egY0e",
    "outputId": "2631a39d-a9a7-4ce2-bbca-10b697c1dc57"
   },
   "outputs": [
    {
     "name": "stdout",
     "output_type": "stream",
     "text": [
      "Type: torch.LongTensor\n",
      "Shape/size: torch.Size([2, 2])\n",
      "Values: \n",
      "tensor([[ 0,  2],\n",
      "        [ 8, 10]])\n"
     ]
    }
   ],
   "source": [
    "# complex indexing\n",
    "indices = torch.LongTensor([0, 2])\n",
    "describe(torch.index_select(x, dim=1, index=indices))"
   ]
  },
  {
   "cell_type": "code",
   "execution_count": 7,
   "metadata": {
    "colab": {
     "base_uri": "https://localhost:8080/",
     "height": 374
    },
    "id": "5Rm1kZsvgY0n",
    "outputId": "2fd2df2b-78f6-48cb-e8e2-1cd572e3992b"
   },
   "outputs": [
    {
     "name": "stdout",
     "output_type": "stream",
     "text": [
      "Type: torch.LongTensor\n",
      "Shape/size: torch.Size([4, 8])\n",
      "Values: \n",
      "tensor([[ 0,  1,  2,  3,  4,  5,  6,  7],\n",
      "        [ 8,  9, 10, 11, 12, 13, 14, 15],\n",
      "        [ 0,  1,  2,  3,  4,  5,  6,  7],\n",
      "        [ 8,  9, 10, 11, 12, 13, 14, 15]])\n",
      "Type: torch.LongTensor\n",
      "Shape/size: torch.Size([2, 16])\n",
      "Values: \n",
      "tensor([[ 0,  1,  2,  3,  4,  5,  6,  7,  0,  1,  2,  3,  4,  5,  6,  7],\n",
      "        [ 8,  9, 10, 11, 12, 13, 14, 15,  8,  9, 10, 11, 12, 13, 14, 15]])\n",
      "Type: torch.LongTensor\n",
      "Shape/size: torch.Size([2, 2, 8])\n",
      "Values: \n",
      "tensor([[[ 0,  1,  2,  3,  4,  5,  6,  7],\n",
      "         [ 8,  9, 10, 11, 12, 13, 14, 15]],\n",
      "\n",
      "        [[ 0,  1,  2,  3,  4,  5,  6,  7],\n",
      "         [ 8,  9, 10, 11, 12, 13, 14, 15]]])\n"
     ]
    }
   ],
   "source": [
    "# concatenating tensors\n",
    "describe(torch.cat([x,x], dim=0))\n",
    "describe(torch.cat([x,x], dim=1))\n",
    "describe(torch.stack([x,x]))"
   ]
  },
  {
   "cell_type": "code",
   "execution_count": 8,
   "metadata": {
    "colab": {
     "base_uri": "https://localhost:8080/",
     "height": 124
    },
    "id": "RrgCgouPgY0t",
    "outputId": "e031d936-c023-4d69-dee8-8174b3132242"
   },
   "outputs": [
    {
     "name": "stdout",
     "output_type": "stream",
     "text": [
      "Type: torch.FloatTensor\n",
      "Shape/size: torch.Size([3, 1])\n",
      "Values: \n",
      "tensor([[1.1552],\n",
      "        [1.3060],\n",
      "        [1.6776]])\n"
     ]
    }
   ],
   "source": [
    "# tensor multiplication\n",
    "x1 = torch.rand(3,5)\n",
    "x2 = torch.rand(5,1)\n",
    "describe(torch.mm(x1,x2))"
   ]
  },
  {
   "cell_type": "code",
   "execution_count": 9,
   "metadata": {
    "colab": {
     "base_uri": "https://localhost:8080/",
     "height": 142
    },
    "id": "qwDfZsvUgY02",
    "outputId": "bf2b1951-8300-4656-e8c6-cbb488312739"
   },
   "outputs": [
    {
     "name": "stdout",
     "output_type": "stream",
     "text": [
      "True\n",
      "True\n",
      "Type: torch.FloatTensor\n",
      "Shape/size: torch.Size([])\n",
      "Values: \n",
      "21.0\n",
      "False\n"
     ]
    }
   ],
   "source": [
    "# creating tensors for gradient bookeeping\n",
    "x = torch.ones(2,2, requires_grad=True)\n",
    "print(x.grad is None)\n",
    "\n",
    "y = (x + 2) * (x + 5) + 3\n",
    "print(x.grad is None)\n",
    "\n",
    "z = y.mean()\n",
    "describe(z)\n",
    "z.backward()\n",
    "print(x.grad is None)"
   ]
  },
  {
   "cell_type": "markdown",
   "metadata": {
    "id": "ngepEgkHgwW2"
   },
   "source": [
    "## Cuda Tensors"
   ]
  },
  {
   "cell_type": "code",
   "execution_count": 10,
   "metadata": {
    "colab": {
     "base_uri": "https://localhost:8080/",
     "height": 35
    },
    "id": "HgQWxjeUgwB8",
    "outputId": "3d2b7929-283f-474f-8609-516ff738b933"
   },
   "outputs": [
    {
     "name": "stdout",
     "output_type": "stream",
     "text": [
      "True\n"
     ]
    }
   ],
   "source": [
    "print(torch.cuda.is_available())"
   ]
  },
  {
   "cell_type": "code",
   "execution_count": 11,
   "metadata": {
    "colab": {
     "base_uri": "https://localhost:8080/",
     "height": 35
    },
    "id": "AbF10ceLg-27",
    "outputId": "8b38f052-b48b-4c17-94d0-1624394a3069"
   },
   "outputs": [
    {
     "name": "stdout",
     "output_type": "stream",
     "text": [
      "cuda\n"
     ]
    }
   ],
   "source": [
    "# method to detect cuda availability\n",
    "device = torch.device(\"cuda\" if torch.cuda.is_available() else \"cpu\")\n",
    "print(device)"
   ]
  },
  {
   "cell_type": "code",
   "execution_count": 12,
   "metadata": {
    "colab": {
     "base_uri": "https://localhost:8080/",
     "height": 124
    },
    "id": "W9mIRFTshTtS",
    "outputId": "71c1b61f-37a5-4649-875d-150ddfb33230"
   },
   "outputs": [
    {
     "name": "stdout",
     "output_type": "stream",
     "text": [
      "Type: torch.cuda.FloatTensor\n",
      "Shape/size: torch.Size([3, 3])\n",
      "Values: \n",
      "tensor([[0.2228, 0.7055, 0.4441],\n",
      "        [0.0451, 0.0261, 0.8816],\n",
      "        [0.9844, 0.7162, 0.2607]], device='cuda:0')\n"
     ]
    }
   ],
   "source": [
    "# create tensor of x and give it\n",
    "# to device in this case cuda\n",
    "x = torch.rand(3,3).to(device)\n",
    "describe(x)\n",
    "\n",
    "# cannot operate the tensor on different\n",
    "# device"
   ]
  },
  {
   "cell_type": "markdown",
   "metadata": {},
   "source": [
    "# Exercices"
   ]
  },
  {
   "cell_type": "code",
   "execution_count": 4,
   "metadata": {},
   "outputs": [
    {
     "name": "stdout",
     "output_type": "stream",
     "text": [
      "Type: torch.FloatTensor\n",
      "Shape/size: torch.Size([2, 3])\n",
      "Values: \n",
      "tensor([[0.5575, 0.9103, 0.4351],\n",
      "        [0.2068, 0.4203, 0.1948]])\n",
      "Type: torch.FloatTensor\n",
      "Shape/size: torch.Size([1, 2, 3])\n",
      "Values: \n",
      "tensor([[[0.5575, 0.9103, 0.4351],\n",
      "         [0.2068, 0.4203, 0.1948]]])\n"
     ]
    }
   ],
   "source": [
    "# create a 2D tensor and add a dimension of size 1 at dimension 0\n",
    "a = torch.rand(2,3)\n",
    "describe(a)\n",
    "describe(a.unsqueeze(0))"
   ]
  },
  {
   "cell_type": "code",
   "execution_count": 5,
   "metadata": {},
   "outputs": [
    {
     "name": "stdout",
     "output_type": "stream",
     "text": [
      "Type: torch.FloatTensor\n",
      "Shape/size: torch.Size([2, 3])\n",
      "Values: \n",
      "tensor([[0.5575, 0.9103, 0.4351],\n",
      "        [0.2068, 0.4203, 0.1948]])\n"
     ]
    }
   ],
   "source": [
    "# remove the extra dimension on previous q\n",
    "describe(a.squeeze(0))"
   ]
  },
  {
   "cell_type": "code",
   "execution_count": 6,
   "metadata": {},
   "outputs": [
    {
     "name": "stdout",
     "output_type": "stream",
     "text": [
      "Type: torch.FloatTensor\n",
      "Shape/size: torch.Size([5, 3])\n",
      "Values: \n",
      "tensor([[3.5978, 3.8723, 4.8034],\n",
      "        [4.6410, 5.3655, 3.7163],\n",
      "        [5.4637, 3.8232, 3.6808],\n",
      "        [5.5894, 4.6125, 4.1187],\n",
      "        [6.3006, 3.0961, 3.6242]])\n"
     ]
    }
   ],
   "source": [
    "# create random tensor shape of size 5x3\n",
    "# with elements in range [3,7)\n",
    "describe(3 + torch.rand(5, 3) * (7 - 3))"
   ]
  },
  {
   "cell_type": "code",
   "execution_count": 8,
   "metadata": {},
   "outputs": [
    {
     "name": "stdout",
     "output_type": "stream",
     "text": [
      "Type: torch.FloatTensor\n",
      "Shape/size: torch.Size([3, 4])\n",
      "Values: \n",
      "tensor([[ 0.4263, -1.3045, -0.3604,  0.6159],\n",
      "        [-0.4132, -0.1978,  1.7153, -0.1627],\n",
      "        [-0.0791,  0.1943, -0.8497, -0.9871]])\n"
     ]
    }
   ],
   "source": [
    "# create tensor whitin values in \n",
    "# normal distribution mean = 0, std = 1\n",
    "describe(torch.randn(3,4).normal_(mean=0, std=1))"
   ]
  },
  {
   "cell_type": "code",
   "execution_count": 15,
   "metadata": {},
   "outputs": [
    {
     "name": "stdout",
     "output_type": "stream",
     "text": [
      "Type: torch.LongTensor\n",
      "Shape/size: torch.Size([4, 1])\n",
      "Values: \n",
      "tensor([[0],\n",
      "        [1],\n",
      "        [2],\n",
      "        [4]])\n",
      "Type: torch.LongTensor\n",
      "Shape/size: torch.Size([4])\n",
      "Values: \n",
      "tensor([0, 1, 2, 4])\n",
      "Type: torch.LongTensor\n",
      "Shape/size: torch.Size([4])\n",
      "Values: \n",
      "tensor([1, 1, 1, 1])\n"
     ]
    }
   ],
   "source": [
    "# retrieve all of non zero elements in tensor\n",
    "# [1,1,1,0,1]\n",
    "b = torch.tensor([1,1,1,0,1])\n",
    "describe(b.nonzero())\n",
    "# show all of non zero number\n",
    "# using indexing from nonzero\n",
    "indexing = torch.flatten(b.nonzero(), start_dim=0, end_dim=-1)\n",
    "describe(indexing)\n",
    "describe(torch.index_select(b, dim=0, index=indexing))"
   ]
  },
  {
   "cell_type": "code",
   "execution_count": 18,
   "metadata": {},
   "outputs": [
    {
     "name": "stdout",
     "output_type": "stream",
     "text": [
      "Type: torch.FloatTensor\n",
      "Shape/size: torch.Size([3, 4])\n",
      "Values: \n",
      "tensor([[0.3879, 0.3879, 0.3879, 0.3879],\n",
      "        [0.3722, 0.3722, 0.3722, 0.3722],\n",
      "        [0.5368, 0.5368, 0.5368, 0.5368]])\n"
     ]
    }
   ],
   "source": [
    "# create random tensor with size of 3x1\n",
    "# and stack four copies\n",
    "c = torch.rand(3,1)\n",
    "describe(c.expand(3,4))"
   ]
  },
  {
   "cell_type": "code",
   "execution_count": 19,
   "metadata": {},
   "outputs": [
    {
     "name": "stdout",
     "output_type": "stream",
     "text": [
      "Type: torch.FloatTensor\n",
      "Shape/size: torch.Size([3, 4, 4])\n",
      "Values: \n",
      "tensor([[[0.7523, 0.9580, 1.1763, 0.8556],\n",
      "         [1.7624, 1.3639, 2.1123, 1.1101],\n",
      "         [0.6728, 0.6501, 0.6979, 0.1987],\n",
      "         [0.5132, 0.4503, 1.0062, 0.2493]],\n",
      "\n",
      "        [[1.7245, 1.1006, 0.5768, 1.4180],\n",
      "         [2.5873, 1.9901, 1.3462, 2.0930],\n",
      "         [2.5803, 1.8404, 1.2517, 2.2748],\n",
      "         [2.3777, 1.7282, 0.9221, 2.1412]],\n",
      "\n",
      "        [[1.0788, 1.6280, 0.9792, 1.4255],\n",
      "         [1.0153, 1.4417, 0.8747, 1.3454],\n",
      "         [1.3644, 2.1280, 1.4497, 1.5997],\n",
      "         [0.9229, 2.0063, 1.0009, 1.2392]]])\n"
     ]
    }
   ],
   "source": [
    "# return a batch matrix product\n",
    "describe(torch.bmm(torch.rand(3,4,5), torch.rand(3,5,4)))"
   ]
  },
  {
   "cell_type": "code",
   "execution_count": 20,
   "metadata": {},
   "outputs": [
    {
     "name": "stdout",
     "output_type": "stream",
     "text": [
      "Type: torch.FloatTensor\n",
      "Shape/size: torch.Size([3, 4, 4])\n",
      "Values: \n",
      "tensor([[[1.0759, 1.6159, 1.4433, 1.4911],\n",
      "         [0.4393, 1.1666, 0.9750, 0.9905],\n",
      "         [0.4820, 1.2388, 1.2895, 0.6734],\n",
      "         [0.3791, 0.6059, 0.7261, 0.7058]],\n",
      "\n",
      "        [[0.5924, 1.1555, 0.9336, 1.0651],\n",
      "         [1.3226, 2.1451, 1.9133, 2.3243],\n",
      "         [0.8404, 1.5608, 1.2237, 1.3766],\n",
      "         [0.8705, 1.3436, 1.2705, 1.7210]],\n",
      "\n",
      "        [[1.3882, 2.3121, 2.2154, 2.0088],\n",
      "         [0.3879, 0.5884, 0.4690, 0.5461],\n",
      "         [0.7500, 1.6071, 1.1777, 1.6645],\n",
      "         [1.1028, 1.8185, 1.7481, 1.6057]]])\n"
     ]
    }
   ],
   "source": [
    "a = torch.rand(3, 4, 5)\n",
    "b = torch.rand(5, 4)\n",
    "describe(torch.bmm(a, b.unsqueeze(0).expand(a.size(0), *b.size())))"
   ]
  },
  {
   "cell_type": "code",
   "execution_count": 22,
   "metadata": {},
   "outputs": [
    {
     "name": "stdout",
     "output_type": "stream",
     "text": [
      "torch.Size([5, 4])\n"
     ]
    }
   ],
   "source": [
    "print(b.size())"
   ]
  }
 ],
 "metadata": {
  "accelerator": "GPU",
  "colab": {
   "collapsed_sections": [],
   "name": "Chapter1_Intro.ipynb",
   "provenance": []
  },
  "kernelspec": {
   "display_name": "Python 3",
   "language": "python",
   "name": "python3"
  },
  "language_info": {
   "codemirror_mode": {
    "name": "ipython",
    "version": 3
   },
   "file_extension": ".py",
   "mimetype": "text/x-python",
   "name": "python",
   "nbconvert_exporter": "python",
   "pygments_lexer": "ipython3",
   "version": "3.7.7"
  }
 },
 "nbformat": 4,
 "nbformat_minor": 1
}
